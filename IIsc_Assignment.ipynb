{
  "nbformat": 4,
  "nbformat_minor": 0,
  "metadata": {
    "colab": {
      "name": "IIsc_Assignment.ipynb",
      "version": "0.3.2",
      "provenance": [],
      "collapsed_sections": [],
      "include_colab_link": true
    },
    "kernelspec": {
      "display_name": "Python 3",
      "language": "python",
      "name": "python3"
    },
    "accelerator": "GPU"
  },
  "cells": [
    {
      "cell_type": "markdown",
      "metadata": {
        "id": "view-in-github",
        "colab_type": "text"
      },
      "source": [
        "[View in Colaboratory](https://colab.research.google.com/github/swastikmhptr/swastikmhptr.github.io/blob/master/IIsc_Assignment.ipynb)"
      ]
    },
    {
      "metadata": {
        "id": "bGqxMABbSSyJ",
        "colab_type": "text"
      },
      "cell_type": "markdown",
      "source": [
        "## Fizz Buzz Logic ##\n",
        "\n"
      ]
    },
    {
      "metadata": {
        "id": "ssYTWt5PR5_4",
        "colab_type": "text"
      },
      "cell_type": "markdown",
      "source": [
        "## Model To Classify a number according to Fizz-Buzz Logic##\n",
        "\n",
        "Here i have implemented the complete Neural netowrk from scratch with the parameters specified and while only importing Numpy for fast operation"
      ]
    },
    {
      "metadata": {
        "id": "YR_NAo_S4rmz",
        "colab_type": "text"
      },
      "cell_type": "markdown",
      "source": [
        "**Libraries used:-**\n",
        "- numpy is the fundamental package for scientific computing with Python..\n",
        "- matplotlib is a famous library to plot graphs in Python.\n",
        "\n"
      ]
    },
    {
      "metadata": {
        "id": "G6bVIiWIR5_7",
        "colab_type": "code",
        "colab": {}
      },
      "cell_type": "code",
      "source": [
        "import numpy as np\n",
        "import matplotlib.pyplot as plt\n",
        "\n",
        "%matplotlib inline"
      ],
      "execution_count": 0,
      "outputs": []
    },
    {
      "metadata": {
        "id": "m2y4XWMz5Llu",
        "colab_type": "text"
      },
      "cell_type": "markdown",
      "source": [
        "**Creation Of The Fizz-Buzz Dataset**"
      ]
    },
    {
      "metadata": {
        "id": "SMWq-Jl0E0Wq",
        "colab_type": "code",
        "colab": {
          "base_uri": "https://localhost:8080/",
          "height": 238
        },
        "outputId": "1079e27d-360d-411b-9265-3719f9a0f08a"
      },
      "cell_type": "code",
      "source": [
        "arr = np.zeros((1000,13))\n",
        "p = 1;\n",
        "for i in range(1000):\n",
        "  arr[i][0]=p\n",
        "  if (p%3==0 and p%5==0):\n",
        "    arr[i][1]=3\n",
        "  elif p%3==0:\n",
        "    arr[i][1]=1\n",
        "  elif p%5==0:\n",
        "    arr[i][1]=2\n",
        "  else:\n",
        "    arr[i][1]=0\n",
        "  \n",
        "  arr[i][2]=np.base_repr(p)\n",
        "  q=arr[i][2]\n",
        "  for j in range(12,2,-1):\n",
        "    arr[i][j]=np.around(q%10)\n",
        "    q=q/10\n",
        "  p=p+1\n",
        "print(arr)"
      ],
      "execution_count": 56,
      "outputs": [
        {
          "output_type": "stream",
          "text": [
            "[[1.00000000e+00 0.00000000e+00 1.00000000e+00 ... 0.00000000e+00\n",
            "  0.00000000e+00 1.00000000e+00]\n",
            " [2.00000000e+00 0.00000000e+00 1.00000000e+01 ... 0.00000000e+00\n",
            "  1.00000000e+00 0.00000000e+00]\n",
            " [3.00000000e+00 1.00000000e+00 1.10000000e+01 ... 0.00000000e+00\n",
            "  1.00000000e+00 1.00000000e+00]\n",
            " ...\n",
            " [9.98000000e+02 0.00000000e+00 1.11110011e+09 ... 1.00000000e+00\n",
            "  1.00000000e+00 0.00000000e+00]\n",
            " [9.99000000e+02 1.00000000e+00 1.11110011e+09 ... 1.00000000e+00\n",
            "  1.00000000e+00 1.00000000e+00]\n",
            " [1.00000000e+03 2.00000000e+00 1.11110100e+09 ... 0.00000000e+00\n",
            "  0.00000000e+00 0.00000000e+00]]\n"
          ],
          "name": "stdout"
        }
      ]
    },
    {
      "metadata": {
        "id": "J9quHAtn5V2Y",
        "colab_type": "text"
      },
      "cell_type": "markdown",
      "source": [
        "Now since the dataset is created, columns 1 and 3 are removed"
      ]
    },
    {
      "metadata": {
        "id": "piW5QbUME6Jv",
        "colab_type": "code",
        "colab": {
          "base_uri": "https://localhost:8080/",
          "height": 170
        },
        "outputId": "d456adca-bb0a-46ef-ca6f-6612fad3a32e"
      },
      "cell_type": "code",
      "source": [
        "arr1=np.zeros((1000,11))\n",
        "arr1=np.delete(arr,[0,2], 1)\n",
        "\n",
        "print(\"final array \\n\")\n",
        "print(arr1)"
      ],
      "execution_count": 57,
      "outputs": [
        {
          "output_type": "stream",
          "text": [
            "final array \n",
            "\n",
            "[[0. 0. 0. ... 0. 0. 1.]\n",
            " [0. 0. 0. ... 0. 1. 0.]\n",
            " [1. 0. 0. ... 0. 1. 1.]\n",
            " ...\n",
            " [0. 1. 1. ... 1. 1. 0.]\n",
            " [1. 1. 1. ... 1. 1. 1.]\n",
            " [2. 1. 1. ... 0. 0. 0.]]\n"
          ],
          "name": "stdout"
        }
      ]
    },
    {
      "metadata": {
        "id": "ElbVyGds5A34",
        "colab_type": "text"
      },
      "cell_type": "markdown",
      "source": [
        "**Splitting the data into required Train and Validation datasets**"
      ]
    },
    {
      "metadata": {
        "id": "E74kWO7KzCNm",
        "colab_type": "code",
        "colab": {}
      },
      "cell_type": "code",
      "source": [
        "split = 100\n",
        "df = arr1[:split,:]\n",
        "dt = arr1[split:,:]"
      ],
      "execution_count": 0,
      "outputs": []
    },
    {
      "metadata": {
        "id": "g90M_w0C0FnE",
        "colab_type": "code",
        "colab": {
          "base_uri": "https://localhost:8080/",
          "height": 136
        },
        "outputId": "4b7d85cf-b3c6-4cae-eb6d-291d3379a697"
      },
      "cell_type": "code",
      "source": [
        "train = np.zeros((900,11))\n",
        "train[:] = dt[:]\n",
        "print(train)"
      ],
      "execution_count": 60,
      "outputs": [
        {
          "output_type": "stream",
          "text": [
            "[[0. 0. 0. ... 1. 0. 1.]\n",
            " [1. 0. 0. ... 1. 1. 0.]\n",
            " [0. 0. 0. ... 1. 1. 1.]\n",
            " ...\n",
            " [0. 1. 1. ... 1. 1. 0.]\n",
            " [1. 1. 1. ... 1. 1. 1.]\n",
            " [2. 1. 1. ... 0. 0. 0.]]\n"
          ],
          "name": "stdout"
        }
      ]
    },
    {
      "metadata": {
        "id": "sjGpJIeV0Fwy",
        "colab_type": "code",
        "colab": {
          "base_uri": "https://localhost:8080/",
          "height": 136
        },
        "outputId": "fdc46a1d-8e88-44fa-b542-2ce3b64eaa98"
      },
      "cell_type": "code",
      "source": [
        "test = np.zeros((100,11))\n",
        "test[:] = df[:]\n",
        "print(test)"
      ],
      "execution_count": 61,
      "outputs": [
        {
          "output_type": "stream",
          "text": [
            "[[0. 0. 0. ... 0. 0. 1.]\n",
            " [0. 0. 0. ... 0. 1. 0.]\n",
            " [1. 0. 0. ... 0. 1. 1.]\n",
            " ...\n",
            " [0. 0. 0. ... 0. 1. 0.]\n",
            " [1. 0. 0. ... 0. 1. 1.]\n",
            " [2. 0. 0. ... 1. 0. 0.]]\n"
          ],
          "name": "stdout"
        }
      ]
    },
    {
      "metadata": {
        "id": "Z0s7nbiM03NP",
        "colab_type": "code",
        "colab": {
          "base_uri": "https://localhost:8080/",
          "height": 51
        },
        "outputId": "3557302e-38cc-439a-c729-eb5cad53eee3"
      },
      "cell_type": "code",
      "source": [
        "print(\"test\"+ str(test.shape))\n",
        "print(\"train\"+ str(train.shape))"
      ],
      "execution_count": 62,
      "outputs": [
        {
          "output_type": "stream",
          "text": [
            "test(100, 11)\n",
            "train(900, 11)\n"
          ],
          "name": "stdout"
        }
      ]
    },
    {
      "metadata": {
        "id": "dmcdHaAUSSy1",
        "colab_type": "text"
      },
      "cell_type": "markdown",
      "source": [
        "**separating the prediction value y from train and test datasets**"
      ]
    },
    {
      "metadata": {
        "id": "8XRgafFG03Xw",
        "colab_type": "code",
        "colab": {
          "base_uri": "https://localhost:8080/",
          "height": 68
        },
        "outputId": "1df234da-63c0-4d7b-e5b4-cc1b4d18fa3b"
      },
      "cell_type": "code",
      "source": [
        "Y_test1 = np.zeros((100,1))\n",
        "\n",
        "Y_test1[:] = test[:,[0]]\n",
        "Y_test2 = np.copy(Y_test1.T.astype(int))\n",
        "print(Y_test2)"
      ],
      "execution_count": 63,
      "outputs": [
        {
          "output_type": "stream",
          "text": [
            "[[0 0 1 0 2 1 0 0 1 2 0 1 0 0 3 0 0 1 0 2 1 0 0 1 2 0 1 0 0 3 0 0 1 0 2 1\n",
            "  0 0 1 2 0 1 0 0 3 0 0 1 0 2 1 0 0 1 2 0 1 0 0 3 0 0 1 0 2 1 0 0 1 2 0 1\n",
            "  0 0 3 0 0 1 0 2 1 0 0 1 2 0 1 0 0 3 0 0 1 0 2 1 0 0 1 2]]\n"
          ],
          "name": "stdout"
        }
      ]
    },
    {
      "metadata": {
        "id": "KfLJ651xI9Zj",
        "colab_type": "text"
      },
      "cell_type": "markdown",
      "source": [
        "**One-Hot Encoding the Test Target feature**"
      ]
    },
    {
      "metadata": {
        "id": "l0ZZD62g5zl2",
        "colab_type": "code",
        "colab": {
          "base_uri": "https://localhost:8080/",
          "height": 1717
        },
        "outputId": "18494158-519c-4a8c-83d5-67c6a46ee727"
      },
      "cell_type": "code",
      "source": [
        "Y_test = np.zeros((100,4))\n",
        "Y_test[np.arange(100),Y_test2]=1\n",
        "print(Y_test)"
      ],
      "execution_count": 64,
      "outputs": [
        {
          "output_type": "stream",
          "text": [
            "[[1. 0. 0. 0.]\n",
            " [1. 0. 0. 0.]\n",
            " [0. 1. 0. 0.]\n",
            " [1. 0. 0. 0.]\n",
            " [0. 0. 1. 0.]\n",
            " [0. 1. 0. 0.]\n",
            " [1. 0. 0. 0.]\n",
            " [1. 0. 0. 0.]\n",
            " [0. 1. 0. 0.]\n",
            " [0. 0. 1. 0.]\n",
            " [1. 0. 0. 0.]\n",
            " [0. 1. 0. 0.]\n",
            " [1. 0. 0. 0.]\n",
            " [1. 0. 0. 0.]\n",
            " [0. 0. 0. 1.]\n",
            " [1. 0. 0. 0.]\n",
            " [1. 0. 0. 0.]\n",
            " [0. 1. 0. 0.]\n",
            " [1. 0. 0. 0.]\n",
            " [0. 0. 1. 0.]\n",
            " [0. 1. 0. 0.]\n",
            " [1. 0. 0. 0.]\n",
            " [1. 0. 0. 0.]\n",
            " [0. 1. 0. 0.]\n",
            " [0. 0. 1. 0.]\n",
            " [1. 0. 0. 0.]\n",
            " [0. 1. 0. 0.]\n",
            " [1. 0. 0. 0.]\n",
            " [1. 0. 0. 0.]\n",
            " [0. 0. 0. 1.]\n",
            " [1. 0. 0. 0.]\n",
            " [1. 0. 0. 0.]\n",
            " [0. 1. 0. 0.]\n",
            " [1. 0. 0. 0.]\n",
            " [0. 0. 1. 0.]\n",
            " [0. 1. 0. 0.]\n",
            " [1. 0. 0. 0.]\n",
            " [1. 0. 0. 0.]\n",
            " [0. 1. 0. 0.]\n",
            " [0. 0. 1. 0.]\n",
            " [1. 0. 0. 0.]\n",
            " [0. 1. 0. 0.]\n",
            " [1. 0. 0. 0.]\n",
            " [1. 0. 0. 0.]\n",
            " [0. 0. 0. 1.]\n",
            " [1. 0. 0. 0.]\n",
            " [1. 0. 0. 0.]\n",
            " [0. 1. 0. 0.]\n",
            " [1. 0. 0. 0.]\n",
            " [0. 0. 1. 0.]\n",
            " [0. 1. 0. 0.]\n",
            " [1. 0. 0. 0.]\n",
            " [1. 0. 0. 0.]\n",
            " [0. 1. 0. 0.]\n",
            " [0. 0. 1. 0.]\n",
            " [1. 0. 0. 0.]\n",
            " [0. 1. 0. 0.]\n",
            " [1. 0. 0. 0.]\n",
            " [1. 0. 0. 0.]\n",
            " [0. 0. 0. 1.]\n",
            " [1. 0. 0. 0.]\n",
            " [1. 0. 0. 0.]\n",
            " [0. 1. 0. 0.]\n",
            " [1. 0. 0. 0.]\n",
            " [0. 0. 1. 0.]\n",
            " [0. 1. 0. 0.]\n",
            " [1. 0. 0. 0.]\n",
            " [1. 0. 0. 0.]\n",
            " [0. 1. 0. 0.]\n",
            " [0. 0. 1. 0.]\n",
            " [1. 0. 0. 0.]\n",
            " [0. 1. 0. 0.]\n",
            " [1. 0. 0. 0.]\n",
            " [1. 0. 0. 0.]\n",
            " [0. 0. 0. 1.]\n",
            " [1. 0. 0. 0.]\n",
            " [1. 0. 0. 0.]\n",
            " [0. 1. 0. 0.]\n",
            " [1. 0. 0. 0.]\n",
            " [0. 0. 1. 0.]\n",
            " [0. 1. 0. 0.]\n",
            " [1. 0. 0. 0.]\n",
            " [1. 0. 0. 0.]\n",
            " [0. 1. 0. 0.]\n",
            " [0. 0. 1. 0.]\n",
            " [1. 0. 0. 0.]\n",
            " [0. 1. 0. 0.]\n",
            " [1. 0. 0. 0.]\n",
            " [1. 0. 0. 0.]\n",
            " [0. 0. 0. 1.]\n",
            " [1. 0. 0. 0.]\n",
            " [1. 0. 0. 0.]\n",
            " [0. 1. 0. 0.]\n",
            " [1. 0. 0. 0.]\n",
            " [0. 0. 1. 0.]\n",
            " [0. 1. 0. 0.]\n",
            " [1. 0. 0. 0.]\n",
            " [1. 0. 0. 0.]\n",
            " [0. 1. 0. 0.]\n",
            " [0. 0. 1. 0.]]\n"
          ],
          "name": "stdout"
        }
      ]
    },
    {
      "metadata": {
        "id": "JwbhfXOi03fk",
        "colab_type": "code",
        "colab": {
          "base_uri": "https://localhost:8080/",
          "height": 442
        },
        "outputId": "d9bade81-9ada-4bb7-d5f5-3fbb3f9df0d4"
      },
      "cell_type": "code",
      "source": [
        "Y_train1 = np.zeros((900,1))\n",
        "\n",
        "Y_train1[:] = train[:,[0]]\n",
        "Y_train2 = np.copy(Y_train1.T.astype(int))\n",
        "print(Y_train2)"
      ],
      "execution_count": 65,
      "outputs": [
        {
          "output_type": "stream",
          "text": [
            "[[0 1 0 0 3 0 0 1 0 2 1 0 0 1 2 0 1 0 0 3 0 0 1 0 2 1 0 0 1 2 0 1 0 0 3 0\n",
            "  0 1 0 2 1 0 0 1 2 0 1 0 0 3 0 0 1 0 2 1 0 0 1 2 0 1 0 0 3 0 0 1 0 2 1 0\n",
            "  0 1 2 0 1 0 0 3 0 0 1 0 2 1 0 0 1 2 0 1 0 0 3 0 0 1 0 2 1 0 0 1 2 0 1 0\n",
            "  0 3 0 0 1 0 2 1 0 0 1 2 0 1 0 0 3 0 0 1 0 2 1 0 0 1 2 0 1 0 0 3 0 0 1 0\n",
            "  2 1 0 0 1 2 0 1 0 0 3 0 0 1 0 2 1 0 0 1 2 0 1 0 0 3 0 0 1 0 2 1 0 0 1 2\n",
            "  0 1 0 0 3 0 0 1 0 2 1 0 0 1 2 0 1 0 0 3 0 0 1 0 2 1 0 0 1 2 0 1 0 0 3 0\n",
            "  0 1 0 2 1 0 0 1 2 0 1 0 0 3 0 0 1 0 2 1 0 0 1 2 0 1 0 0 3 0 0 1 0 2 1 0\n",
            "  0 1 2 0 1 0 0 3 0 0 1 0 2 1 0 0 1 2 0 1 0 0 3 0 0 1 0 2 1 0 0 1 2 0 1 0\n",
            "  0 3 0 0 1 0 2 1 0 0 1 2 0 1 0 0 3 0 0 1 0 2 1 0 0 1 2 0 1 0 0 3 0 0 1 0\n",
            "  2 1 0 0 1 2 0 1 0 0 3 0 0 1 0 2 1 0 0 1 2 0 1 0 0 3 0 0 1 0 2 1 0 0 1 2\n",
            "  0 1 0 0 3 0 0 1 0 2 1 0 0 1 2 0 1 0 0 3 0 0 1 0 2 1 0 0 1 2 0 1 0 0 3 0\n",
            "  0 1 0 2 1 0 0 1 2 0 1 0 0 3 0 0 1 0 2 1 0 0 1 2 0 1 0 0 3 0 0 1 0 2 1 0\n",
            "  0 1 2 0 1 0 0 3 0 0 1 0 2 1 0 0 1 2 0 1 0 0 3 0 0 1 0 2 1 0 0 1 2 0 1 0\n",
            "  0 3 0 0 1 0 2 1 0 0 1 2 0 1 0 0 3 0 0 1 0 2 1 0 0 1 2 0 1 0 0 3 0 0 1 0\n",
            "  2 1 0 0 1 2 0 1 0 0 3 0 0 1 0 2 1 0 0 1 2 0 1 0 0 3 0 0 1 0 2 1 0 0 1 2\n",
            "  0 1 0 0 3 0 0 1 0 2 1 0 0 1 2 0 1 0 0 3 0 0 1 0 2 1 0 0 1 2 0 1 0 0 3 0\n",
            "  0 1 0 2 1 0 0 1 2 0 1 0 0 3 0 0 1 0 2 1 0 0 1 2 0 1 0 0 3 0 0 1 0 2 1 0\n",
            "  0 1 2 0 1 0 0 3 0 0 1 0 2 1 0 0 1 2 0 1 0 0 3 0 0 1 0 2 1 0 0 1 2 0 1 0\n",
            "  0 3 0 0 1 0 2 1 0 0 1 2 0 1 0 0 3 0 0 1 0 2 1 0 0 1 2 0 1 0 0 3 0 0 1 0\n",
            "  2 1 0 0 1 2 0 1 0 0 3 0 0 1 0 2 1 0 0 1 2 0 1 0 0 3 0 0 1 0 2 1 0 0 1 2\n",
            "  0 1 0 0 3 0 0 1 0 2 1 0 0 1 2 0 1 0 0 3 0 0 1 0 2 1 0 0 1 2 0 1 0 0 3 0\n",
            "  0 1 0 2 1 0 0 1 2 0 1 0 0 3 0 0 1 0 2 1 0 0 1 2 0 1 0 0 3 0 0 1 0 2 1 0\n",
            "  0 1 2 0 1 0 0 3 0 0 1 0 2 1 0 0 1 2 0 1 0 0 3 0 0 1 0 2 1 0 0 1 2 0 1 0\n",
            "  0 3 0 0 1 0 2 1 0 0 1 2 0 1 0 0 3 0 0 1 0 2 1 0 0 1 2 0 1 0 0 3 0 0 1 0\n",
            "  2 1 0 0 1 2 0 1 0 0 3 0 0 1 0 2 1 0 0 1 2 0 1 0 0 3 0 0 1 0 2 1 0 0 1 2]]\n"
          ],
          "name": "stdout"
        }
      ]
    },
    {
      "metadata": {
        "id": "8ahmv2dyJYRc",
        "colab_type": "text"
      },
      "cell_type": "markdown",
      "source": [
        "**ONe Hot Encoding the Train Target Feature**"
      ]
    },
    {
      "metadata": {
        "id": "f-4Jx61s7AAl",
        "colab_type": "code",
        "colab": {
          "base_uri": "https://localhost:8080/",
          "height": 136
        },
        "outputId": "3a20a404-7da1-4877-f420-bfeb97aaea26"
      },
      "cell_type": "code",
      "source": [
        "Y_train = np.zeros((900,4))\n",
        "Y_train[np.arange(900),Y_train2]=1\n",
        "print(Y_train)"
      ],
      "execution_count": 66,
      "outputs": [
        {
          "output_type": "stream",
          "text": [
            "[[1. 0. 0. 0.]\n",
            " [0. 1. 0. 0.]\n",
            " [1. 0. 0. 0.]\n",
            " ...\n",
            " [1. 0. 0. 0.]\n",
            " [0. 1. 0. 0.]\n",
            " [0. 0. 1. 0.]]\n"
          ],
          "name": "stdout"
        }
      ]
    },
    {
      "metadata": {
        "id": "BO_9ApW5Jhl5",
        "colab_type": "text"
      },
      "cell_type": "markdown",
      "source": [
        "**Deleting the Y values from the X-train and X-Test**"
      ]
    },
    {
      "metadata": {
        "id": "m7YE91ax03l0",
        "colab_type": "code",
        "colab": {}
      },
      "cell_type": "code",
      "source": [
        "X_test = np.zeros((100,10))\n",
        "X_train = np.zeros((900,10))\n",
        "\n",
        "X_test = np.delete(test,0,axis=1)\n",
        "X_train = np.delete(train,0,axis=1)"
      ],
      "execution_count": 0,
      "outputs": []
    },
    {
      "metadata": {
        "id": "D5lUD6aQ1c-Q",
        "colab_type": "code",
        "colab": {
          "base_uri": "https://localhost:8080/",
          "height": 1870
        },
        "outputId": "f8f53b7a-acf7-4c25-a565-be5e9867be11"
      },
      "cell_type": "code",
      "source": [
        "print(X_test)\n",
        "print(\"test:\"+ str(X_test.shape))\n",
        "print(X_train)\n",
        "print(\"Train:\"+ str(X_train.shape))"
      ],
      "execution_count": 68,
      "outputs": [
        {
          "output_type": "stream",
          "text": [
            "[[0. 0. 0. 0. 0. 0. 0. 0. 0. 1.]\n",
            " [0. 0. 0. 0. 0. 0. 0. 0. 1. 0.]\n",
            " [0. 0. 0. 0. 0. 0. 0. 0. 1. 1.]\n",
            " [0. 0. 0. 0. 0. 0. 0. 1. 0. 0.]\n",
            " [0. 0. 0. 0. 0. 0. 0. 1. 0. 1.]\n",
            " [0. 0. 0. 0. 0. 0. 0. 1. 1. 0.]\n",
            " [0. 0. 0. 0. 0. 0. 0. 1. 1. 1.]\n",
            " [0. 0. 0. 0. 0. 0. 1. 0. 0. 0.]\n",
            " [0. 0. 0. 0. 0. 0. 1. 0. 0. 1.]\n",
            " [0. 0. 0. 0. 0. 0. 1. 0. 1. 0.]\n",
            " [0. 0. 0. 0. 0. 0. 1. 0. 1. 1.]\n",
            " [0. 0. 0. 0. 0. 0. 1. 1. 0. 0.]\n",
            " [0. 0. 0. 0. 0. 0. 1. 1. 0. 1.]\n",
            " [0. 0. 0. 0. 0. 0. 1. 1. 1. 0.]\n",
            " [0. 0. 0. 0. 0. 0. 1. 1. 1. 1.]\n",
            " [0. 0. 0. 0. 0. 1. 0. 0. 0. 0.]\n",
            " [0. 0. 0. 0. 0. 1. 0. 0. 0. 1.]\n",
            " [0. 0. 0. 0. 0. 1. 0. 0. 1. 0.]\n",
            " [0. 0. 0. 0. 0. 1. 0. 0. 1. 1.]\n",
            " [0. 0. 0. 0. 0. 1. 0. 1. 0. 0.]\n",
            " [0. 0. 0. 0. 0. 1. 0. 1. 0. 1.]\n",
            " [0. 0. 0. 0. 0. 1. 0. 1. 1. 0.]\n",
            " [0. 0. 0. 0. 0. 1. 0. 1. 1. 1.]\n",
            " [0. 0. 0. 0. 0. 1. 1. 0. 0. 0.]\n",
            " [0. 0. 0. 0. 0. 1. 1. 0. 0. 1.]\n",
            " [0. 0. 0. 0. 0. 1. 1. 0. 1. 0.]\n",
            " [0. 0. 0. 0. 0. 1. 1. 0. 1. 1.]\n",
            " [0. 0. 0. 0. 0. 1. 1. 1. 0. 0.]\n",
            " [0. 0. 0. 0. 0. 1. 1. 1. 0. 1.]\n",
            " [0. 0. 0. 0. 0. 1. 1. 1. 1. 0.]\n",
            " [0. 0. 0. 0. 0. 1. 1. 1. 1. 1.]\n",
            " [0. 0. 0. 0. 1. 0. 0. 0. 0. 0.]\n",
            " [0. 0. 0. 0. 1. 0. 0. 0. 0. 1.]\n",
            " [0. 0. 0. 0. 1. 0. 0. 0. 1. 0.]\n",
            " [0. 0. 0. 0. 1. 0. 0. 0. 1. 1.]\n",
            " [0. 0. 0. 0. 1. 0. 0. 1. 0. 0.]\n",
            " [0. 0. 0. 0. 1. 0. 0. 1. 0. 1.]\n",
            " [0. 0. 0. 0. 1. 0. 0. 1. 1. 0.]\n",
            " [0. 0. 0. 0. 1. 0. 0. 1. 1. 1.]\n",
            " [0. 0. 0. 0. 1. 0. 1. 0. 0. 0.]\n",
            " [0. 0. 0. 0. 1. 0. 1. 0. 0. 1.]\n",
            " [0. 0. 0. 0. 1. 0. 1. 0. 1. 0.]\n",
            " [0. 0. 0. 0. 1. 0. 1. 0. 1. 1.]\n",
            " [0. 0. 0. 0. 1. 0. 1. 1. 0. 0.]\n",
            " [0. 0. 0. 0. 1. 0. 1. 1. 0. 1.]\n",
            " [0. 0. 0. 0. 1. 0. 1. 1. 1. 0.]\n",
            " [0. 0. 0. 0. 1. 0. 1. 1. 1. 1.]\n",
            " [0. 0. 0. 0. 1. 1. 0. 0. 0. 0.]\n",
            " [0. 0. 0. 0. 1. 1. 0. 0. 0. 1.]\n",
            " [0. 0. 0. 0. 1. 1. 0. 0. 1. 0.]\n",
            " [0. 0. 0. 0. 1. 1. 0. 0. 1. 1.]\n",
            " [0. 0. 0. 0. 1. 1. 0. 1. 0. 0.]\n",
            " [0. 0. 0. 0. 1. 1. 0. 1. 0. 1.]\n",
            " [0. 0. 0. 0. 1. 1. 0. 1. 1. 0.]\n",
            " [0. 0. 0. 0. 1. 1. 0. 1. 1. 1.]\n",
            " [0. 0. 0. 0. 1. 1. 1. 0. 0. 0.]\n",
            " [0. 0. 0. 0. 1. 1. 1. 0. 0. 1.]\n",
            " [0. 0. 0. 0. 1. 1. 1. 0. 1. 0.]\n",
            " [0. 0. 0. 0. 1. 1. 1. 0. 1. 1.]\n",
            " [0. 0. 0. 0. 1. 1. 1. 1. 0. 0.]\n",
            " [0. 0. 0. 0. 1. 1. 1. 1. 0. 1.]\n",
            " [0. 0. 0. 0. 1. 1. 1. 1. 1. 0.]\n",
            " [0. 0. 0. 0. 1. 1. 1. 1. 1. 1.]\n",
            " [0. 0. 0. 1. 0. 0. 0. 0. 0. 0.]\n",
            " [0. 0. 0. 1. 0. 0. 0. 0. 0. 1.]\n",
            " [0. 0. 0. 1. 0. 0. 0. 0. 1. 0.]\n",
            " [0. 0. 0. 1. 0. 0. 0. 0. 1. 1.]\n",
            " [0. 0. 0. 1. 0. 0. 0. 1. 0. 0.]\n",
            " [0. 0. 0. 1. 0. 0. 0. 1. 0. 1.]\n",
            " [0. 0. 0. 1. 0. 0. 0. 1. 1. 0.]\n",
            " [0. 0. 0. 1. 0. 0. 0. 1. 1. 1.]\n",
            " [0. 0. 0. 1. 0. 0. 1. 0. 0. 0.]\n",
            " [0. 0. 0. 1. 0. 0. 1. 0. 0. 1.]\n",
            " [0. 0. 0. 1. 0. 0. 1. 0. 1. 0.]\n",
            " [0. 0. 0. 1. 0. 0. 1. 0. 1. 1.]\n",
            " [0. 0. 0. 1. 0. 0. 1. 1. 0. 0.]\n",
            " [0. 0. 0. 1. 0. 0. 1. 1. 0. 1.]\n",
            " [0. 0. 0. 1. 0. 0. 1. 1. 1. 0.]\n",
            " [0. 0. 0. 1. 0. 0. 1. 1. 1. 1.]\n",
            " [0. 0. 0. 1. 0. 1. 0. 0. 0. 0.]\n",
            " [0. 0. 0. 1. 0. 1. 0. 0. 0. 1.]\n",
            " [0. 0. 0. 1. 0. 1. 0. 0. 1. 0.]\n",
            " [0. 0. 0. 1. 0. 1. 0. 0. 1. 1.]\n",
            " [0. 0. 0. 1. 0. 1. 0. 1. 0. 0.]\n",
            " [0. 0. 0. 1. 0. 1. 0. 1. 0. 1.]\n",
            " [0. 0. 0. 1. 0. 1. 0. 1. 1. 0.]\n",
            " [0. 0. 0. 1. 0. 1. 0. 1. 1. 1.]\n",
            " [0. 0. 0. 1. 0. 1. 1. 0. 0. 0.]\n",
            " [0. 0. 0. 1. 0. 1. 1. 0. 0. 1.]\n",
            " [0. 0. 0. 1. 0. 1. 1. 0. 1. 0.]\n",
            " [0. 0. 0. 1. 0. 1. 1. 0. 1. 1.]\n",
            " [0. 0. 0. 1. 0. 1. 1. 1. 0. 0.]\n",
            " [0. 0. 0. 1. 0. 1. 1. 1. 0. 1.]\n",
            " [0. 0. 0. 1. 0. 1. 1. 1. 1. 0.]\n",
            " [0. 0. 0. 1. 0. 1. 1. 1. 1. 1.]\n",
            " [0. 0. 0. 1. 1. 0. 0. 0. 0. 0.]\n",
            " [0. 0. 0. 1. 1. 0. 0. 0. 0. 1.]\n",
            " [0. 0. 0. 1. 1. 0. 0. 0. 1. 0.]\n",
            " [0. 0. 0. 1. 1. 0. 0. 0. 1. 1.]\n",
            " [0. 0. 0. 1. 1. 0. 0. 1. 0. 0.]]\n",
            "test:(100, 10)\n",
            "[[0. 0. 0. ... 1. 0. 1.]\n",
            " [0. 0. 0. ... 1. 1. 0.]\n",
            " [0. 0. 0. ... 1. 1. 1.]\n",
            " ...\n",
            " [1. 1. 1. ... 1. 1. 0.]\n",
            " [1. 1. 1. ... 1. 1. 1.]\n",
            " [1. 1. 1. ... 0. 0. 0.]]\n",
            "Train:(900, 10)\n"
          ],
          "name": "stdout"
        }
      ]
    },
    {
      "metadata": {
        "id": "LyQPq5rzSSzK",
        "colab_type": "text"
      },
      "cell_type": "markdown",
      "source": [
        "**Transposing the final datasets**"
      ]
    },
    {
      "metadata": {
        "id": "gEM6zq9t1dKc",
        "colab_type": "code",
        "colab": {}
      },
      "cell_type": "code",
      "source": [
        "\n",
        "X_train_final = np.zeros((10,900))\n",
        "X_test_final = np.zeros((10,100))\n",
        "Y_train_final = np.zeros((4,900))\n",
        "Y_test_final = np.zeros((4,100))\n",
        "\n",
        "X_train_final = np.transpose(X_train)\n",
        "X_test_final = np.transpose(X_test)\n",
        "Y_train_final = np.transpose(Y_train)\n",
        "Y_test_final = np.transpose(Y_test)"
      ],
      "execution_count": 0,
      "outputs": []
    },
    {
      "metadata": {
        "id": "L19Rh_wgO3a9",
        "colab_type": "code",
        "colab": {
          "base_uri": "https://localhost:8080/",
          "height": 136
        },
        "outputId": "7569ea4e-60a3-4473-a417-4b58e23bc858"
      },
      "cell_type": "code",
      "source": [
        "print(X_train_final[:][:])"
      ],
      "execution_count": 70,
      "outputs": [
        {
          "output_type": "stream",
          "text": [
            "[[0. 0. 0. ... 1. 1. 1.]\n",
            " [0. 0. 0. ... 1. 1. 1.]\n",
            " [0. 0. 0. ... 1. 1. 1.]\n",
            " ...\n",
            " [1. 1. 1. ... 1. 1. 0.]\n",
            " [0. 1. 1. ... 1. 1. 0.]\n",
            " [1. 0. 1. ... 0. 1. 0.]]\n"
          ],
          "name": "stdout"
        }
      ]
    },
    {
      "metadata": {
        "id": "K-C_8CFkSSzR",
        "colab_type": "text"
      },
      "cell_type": "markdown",
      "source": [
        "**NORMALISING the training and Validation data**"
      ]
    },
    {
      "metadata": {
        "id": "Xhx4F4_AKoCz",
        "colab_type": "text"
      },
      "cell_type": "markdown",
      "source": [
        "Here Normalization has been skipped because the complete dataset is made up of boolean values"
      ]
    },
    {
      "metadata": {
        "id": "Q8ZPyZew1dTU",
        "colab_type": "code",
        "colab": {}
      },
      "cell_type": "code",
      "source": [
        "#mtr = X_train_final.shape[1]\n",
        "#print(mtr)\n",
        "#utr = np.sum(X_train_final,axis=1,keepdims=True)/mtr\n",
        "#print(utr)"
      ],
      "execution_count": 0,
      "outputs": []
    },
    {
      "metadata": {
        "id": "yqDS4cDp1diK",
        "colab_type": "code",
        "colab": {}
      },
      "cell_type": "code",
      "source": [
        "#train_set_x = X_train_final - utr\n",
        "#test_set_x = X_test_final - utr"
      ],
      "execution_count": 0,
      "outputs": []
    },
    {
      "metadata": {
        "id": "wVlbc9X_6Vh-",
        "colab_type": "code",
        "colab": {}
      },
      "cell_type": "code",
      "source": [
        "#norm = (np.sum(np.square(train_set_x),axis=1,keepdims=True))/mtr\n",
        "\n",
        "#train_set_x = train_set_x / norm\n",
        "#test_set_x = test_set_x / norm"
      ],
      "execution_count": 0,
      "outputs": []
    },
    {
      "metadata": {
        "id": "p18BMJqJ6Vwd",
        "colab_type": "code",
        "colab": {}
      },
      "cell_type": "code",
      "source": [
        "#print(train_set_x)\n",
        "#print(\"train:\"+ str(train_set_x.shape))\n",
        "#print(test_set_x)\n",
        "#print(\"Test:\"+ str(test_set_x.shape))"
      ],
      "execution_count": 0,
      "outputs": []
    },
    {
      "metadata": {
        "id": "97gGiemK88ke",
        "colab_type": "text"
      },
      "cell_type": "markdown",
      "source": [
        "# Activation Functions"
      ]
    },
    {
      "metadata": {
        "id": "VsFd3Ql28K1T",
        "colab_type": "text"
      },
      "cell_type": "markdown",
      "source": [
        "**Defininhg Sigmoid activation function**"
      ]
    },
    {
      "metadata": {
        "id": "s4hrQCzwR6Af",
        "colab_type": "code",
        "colab": {}
      },
      "cell_type": "code",
      "source": [
        "def sigmoid(z):\n",
        "   \n",
        "    s = 1 / (1 + np.exp(-z))\n",
        "    \n",
        "    return s"
      ],
      "execution_count": 0,
      "outputs": []
    },
    {
      "metadata": {
        "id": "kvmKLSySePc4",
        "colab_type": "code",
        "colab": {}
      },
      "cell_type": "code",
      "source": [
        "def sigmoiderivative(Z):\n",
        "  \n",
        "  f = Z * (1-Z)\n",
        "  \n",
        "  return f"
      ],
      "execution_count": 0,
      "outputs": []
    },
    {
      "metadata": {
        "id": "Pxopqj7P9Jk_",
        "colab_type": "text"
      },
      "cell_type": "markdown",
      "source": [
        "**function for tanh activation**"
      ]
    },
    {
      "metadata": {
        "id": "rFopXuTKR6Aj",
        "colab_type": "code",
        "colab": {}
      },
      "cell_type": "code",
      "source": [
        "def tanh(z):\n",
        "    \n",
        "    s = (np.exp(z) - np.exp(-z))/(np.exp(z) + np.exp(-z))\n",
        "    \n",
        "    return s"
      ],
      "execution_count": 0,
      "outputs": []
    },
    {
      "metadata": {
        "id": "sODSXD3t9O8V",
        "colab_type": "text"
      },
      "cell_type": "markdown",
      "source": [
        "**derivative of tanh activation**"
      ]
    },
    {
      "metadata": {
        "id": "avRK7nqTR6Al",
        "colab_type": "code",
        "colab": {}
      },
      "cell_type": "code",
      "source": [
        "def tanhderivative(x):\n",
        "    \n",
        "    p = 1 - np.square(x)\n",
        "    \n",
        "    return p"
      ],
      "execution_count": 0,
      "outputs": []
    },
    {
      "metadata": {
        "id": "SP9p2N4T9T45",
        "colab_type": "text"
      },
      "cell_type": "markdown",
      "source": [
        "**function for RELU activation**"
      ]
    },
    {
      "metadata": {
        "id": "iA51_1fcR6Ap",
        "colab_type": "code",
        "colab": {}
      },
      "cell_type": "code",
      "source": [
        "def relu(z):\n",
        "    \n",
        "    s = np.maximum(0,z)\n",
        "    \n",
        "    return s"
      ],
      "execution_count": 0,
      "outputs": []
    },
    {
      "metadata": {
        "id": "98b_bWNt9ZXu",
        "colab_type": "text"
      },
      "cell_type": "markdown",
      "source": [
        "**derivative of RELU activation**"
      ]
    },
    {
      "metadata": {
        "id": "tlAHT-xmR6Aq",
        "colab_type": "code",
        "colab": {}
      },
      "cell_type": "code",
      "source": [
        "def reluderivative(x):\n",
        "    x[x<=0] = 0\n",
        "    x[x>0] = 1\n",
        "    return x\n"
      ],
      "execution_count": 0,
      "outputs": []
    },
    {
      "metadata": {
        "id": "9PeAKKK05jZI",
        "colab_type": "text"
      },
      "cell_type": "markdown",
      "source": [
        "Next the softmax function is defined which helps in the multi-class classification as we have for this problem"
      ]
    },
    {
      "metadata": {
        "id": "Ba9vjtnC8kvK",
        "colab_type": "code",
        "colab": {}
      },
      "cell_type": "code",
      "source": [
        "def softmax(x):\n",
        "    \"\"\"Compute softmax values for each sets of scores in x.\"\"\"\n",
        "    e_x = np.exp(x)\n",
        "    return np.exp(x) / np.sum(e_x,axis=0)"
      ],
      "execution_count": 0,
      "outputs": []
    },
    {
      "metadata": {
        "id": "uGxL018z9obo",
        "colab_type": "text"
      },
      "cell_type": "markdown",
      "source": [
        "# Core functions"
      ]
    },
    {
      "metadata": {
        "id": "JzDll9W89su-",
        "colab_type": "text"
      },
      "cell_type": "markdown",
      "source": [
        "**Initialising the Weights and bais with very small values **"
      ]
    },
    {
      "metadata": {
        "id": "yPiutUqpR6Au",
        "colab_type": "code",
        "colab": {}
      },
      "cell_type": "code",
      "source": [
        "def initialize(layer):\n",
        "    \n",
        "    l = len(layer)\n",
        "    parameters = {}\n",
        "    np.random.seed(0)\n",
        "    for i in range(1,l-1):\n",
        "      parameters[\"W\"+str(i)]=np.random.randn(layer[i],layer[i-1]) * np.sqrt(2/layer[i-1]) \n",
        "      parameters[\"b\"+str(i)]=np.zeros((layer[i],1))\n",
        "    \n",
        "    parameters[\"W\"+str(l-1)]=np.random.randn(layer[l-1],layer[l-2]) * 0.001\n",
        "    parameters[\"b\"+str(l-1)]=np.zeros((layer[l-1],1)) \n",
        "   \n",
        "    \n",
        "    return parameters"
      ],
      "execution_count": 0,
      "outputs": []
    },
    {
      "metadata": {
        "id": "OOPLfsvVSS0U",
        "colab_type": "text"
      },
      "cell_type": "markdown",
      "source": [
        "**Initialising parameters for ADAM Optimiser**"
      ]
    },
    {
      "metadata": {
        "id": "e4cXpCkfLXTE",
        "colab_type": "text"
      },
      "cell_type": "markdown",
      "source": [
        "Just for the cases if application of Mini Batch Gradient Descent is applied"
      ]
    },
    {
      "metadata": {
        "id": "tJcmhrTWwNU8",
        "colab_type": "code",
        "colab": {}
      },
      "cell_type": "code",
      "source": [
        "def initialize_adam(parameters,layer) :\n",
        "    \n",
        "    L = len(parameters) // 2\n",
        "    v = {}\n",
        "    s = {}\n",
        "    \n",
        "   \n",
        "    for l in range(L-1):\n",
        "   \n",
        "        v[\"dW\" + str(l+1)] = np.zeros(parameters['W' + str(l+1)].shape)\n",
        "        v[\"db\" + str(l+1)] = np.zeros(parameters['b' + str(l+1)].shape)\n",
        "        s[\"dW\" + str(l+1)] = np.zeros(parameters['W' + str(l+1)].shape)\n",
        "        s[\"db\" + str(l+1)] = np.zeros(parameters['b' + str(l+1)].shape)\n",
        "    \n",
        "    \n",
        "    return v, s"
      ],
      "execution_count": 0,
      "outputs": []
    },
    {
      "metadata": {
        "id": "4IjvbSL6SS0W",
        "colab_type": "text"
      },
      "cell_type": "markdown",
      "source": [
        "**Breaking the training dataset with random minibatches**"
      ]
    },
    {
      "metadata": {
        "id": "9DpBeA5jM8ff",
        "colab_type": "text"
      },
      "cell_type": "markdown",
      "source": [
        "This function has been used to split our given dataset of 1000 entries into smaller batches for min-Batch Gradient Descent if needed"
      ]
    },
    {
      "metadata": {
        "id": "lAk0CFNTwNiz",
        "colab_type": "code",
        "colab": {}
      },
      "cell_type": "code",
      "source": [
        "def random_mini_batches(X, Y, mini_batch_size = 512):\n",
        "    \n",
        "               \n",
        "    m = X.shape[1]                  \n",
        "    mini_batches = []\n",
        "        \n",
        "    permutation = list(np.random.permutation(m))\n",
        "    shuffled_X = X[:, permutation]\n",
        "    shuffled_Y = Y[:, permutation].reshape((4,m))\n",
        "\n",
        "    # Step 2: Partition (shuffled_X, shuffled_Y). Minus the end case.\n",
        "    num_complete_minibatches = math.floor(m/mini_batch_size) # number of mini batches of size mini_batch_size in your partitionning\n",
        "    for k in range(0, num_complete_minibatches):\n",
        "        mini_batch_X = shuffled_X[:, k*mini_batch_size : (k+1)*mini_batch_size]\n",
        "        mini_batch_Y = shuffled_Y[:, k*mini_batch_size : (k+1)*mini_batch_size]\n",
        "      \n",
        "        mini_batch = (mini_batch_X, mini_batch_Y)\n",
        "        mini_batches.append(mini_batch)\n",
        "    \n",
        "    # Handling the end case (last mini-batch < mini_batch_size)\n",
        "    if m % mini_batch_size != 0:\n",
        "        \n",
        "        mini_batch_X = shuffled_X[:, num_complete_minibatches*mini_batch_size:]\n",
        "        mini_batch_Y = shuffled_Y[:, num_complete_minibatches*mini_batch_size:]\n",
        "        \n",
        "        mini_batch = (mini_batch_X, mini_batch_Y)\n",
        "        mini_batches.append(mini_batch)\n",
        "    \n",
        "    return mini_batches"
      ],
      "execution_count": 0,
      "outputs": []
    },
    {
      "metadata": {
        "id": "rlA0IH7-936C",
        "colab_type": "text"
      },
      "cell_type": "markdown",
      "source": [
        "**FORWARD PROPAGATION**"
      ]
    },
    {
      "metadata": {
        "id": "FnEOagzmNRZk",
        "colab_type": "text"
      },
      "cell_type": "markdown",
      "source": [
        "Function for general Forward propagation without application of dropouts"
      ]
    },
    {
      "metadata": {
        "id": "rbWSNzajkZ9w",
        "colab_type": "code",
        "colab": {}
      },
      "cell_type": "code",
      "source": [
        "def fwd_propagation(X,parameters,layer):\n",
        "  \n",
        "  l = len(layer)\n",
        "  forward = {}\n",
        "  \n",
        "  forward[\"Z\"+str(1)]=np.dot(parameters[\"W\"+str(1)],X)+parameters[\"b\"+str(1)]\n",
        "    \n",
        "  forward[\"A\"+str(1)]=relu(forward[\"Z\"+str(1)])\n",
        "  \n",
        "  for i in range(2,l-1):\n",
        "    forward[\"Z\"+str(i)]=np.dot(parameters[\"W\"+str(i)],forward[\"A\"+str(i-1)])+parameters[\"b\"+str(i)]\n",
        "    forward[\"A\"+str(i)]=relu(forward[\"Z\"+str(i)])\n",
        "   \n",
        "  forward[\"Z\"+str(l-1)]=np.dot(parameters[\"W\"+str(l-1)],forward[\"A\"+str(l-2)])+parameters[\"b\"+str(l-1)]\n",
        "  forward[\"A\"+str(l-1)]=sigmoid(forward[\"Z\"+str(l-1)])\n",
        "  \n",
        "  return forward"
      ],
      "execution_count": 0,
      "outputs": []
    },
    {
      "metadata": {
        "id": "Vu6enn7FSS0c",
        "colab_type": "text"
      },
      "cell_type": "markdown",
      "source": [
        "**FORWARD-PROPAGATION with DROPOUTS**"
      ]
    },
    {
      "metadata": {
        "id": "9zw8AGQjNZKj",
        "colab_type": "text"
      },
      "cell_type": "markdown",
      "source": [
        "Function to implement forward propagation with the application of dropouts"
      ]
    },
    {
      "metadata": {
        "id": "NbcDkA9VYp3v",
        "colab_type": "code",
        "colab": {}
      },
      "cell_type": "code",
      "source": [
        "def fwd_propagation_drop(X,parameters,layer,keep_prob):\n",
        "  drop = {}\n",
        "  l = len(layer)\n",
        "  forward = {}\n",
        "  \n",
        "  forward[\"Z\"+str(1)]=np.dot(parameters[\"W\"+str(1)],X)+parameters[\"b\"+str(1)]\n",
        "    \n",
        "  forward[\"A\"+str(1)]=relu(forward[\"Z\"+str(1)])\n",
        "  drop[\"d\"+str(1)]=(np.random.rand(forward[\"A\"+str(1)].shape[0],forward[\"A\"+str(1)].shape[1])) < keep_prob[1]\n",
        "    \n",
        "  forward[\"A\"+str(1)] = np.multiply(forward[\"A\"+str(1)],drop[\"d\"+str(1)])\n",
        "  forward[\"A\"+str(1)] = forward[\"A\"+str(1)] / keep_prob[1]\n",
        "  \n",
        "  for i in range(2,l-1):\n",
        "    forward[\"Z\"+str(i)]=np.dot(parameters[\"W\"+str(i)],forward[\"A\"+str(i-1)])+parameters[\"b\"+str(i)]\n",
        "    \n",
        "    forward[\"A\"+str(i)]=relu(forward[\"Z\"+str(i)])\n",
        "    drop[\"d\"+str(i)]=(np.random.rand(forward[\"A\"+str(i)].shape[0],forward[\"A\"+str(i)].shape[1])) < keep_prob[i]\n",
        "    \n",
        "    forward[\"A\"+str(i)] = np.multiply(forward[\"A\"+str(i)],drop[\"d\"+str(i)])\n",
        "    forward[\"A\"+str(i)] = forward[\"A\"+str(i)] / keep_prob[i]\n",
        "    \n",
        "  forward[\"Z\"+str(l-1)]=np.dot(parameters[\"W\"+str(l-1)],forward[\"A\"+str(l-2)])+parameters[\"b\"+str(l-1)]\n",
        "  forward[\"A\"+str(l-1)]=softmax(forward[\"Z\"+str(l-1)])\n",
        "  \n",
        "  return forward"
      ],
      "execution_count": 0,
      "outputs": []
    },
    {
      "metadata": {
        "id": "_epDQmAQSS0f",
        "colab_type": "text"
      },
      "cell_type": "markdown",
      "source": [
        "**BACK_PROPATION WITH L2 Regularization**"
      ]
    },
    {
      "metadata": {
        "id": "ohLBZs_INhgq",
        "colab_type": "text"
      },
      "cell_type": "markdown",
      "source": [
        "This function is tackle the case when there is less validation accuracy"
      ]
    },
    {
      "metadata": {
        "id": "W2fH8ImOb-cj",
        "colab_type": "code",
        "colab": {}
      },
      "cell_type": "code",
      "source": [
        "def back_prop(X,Y,forward,layer,parameters,lambd=0.6):\n",
        "  m = X.shape[1]\n",
        "  l = len(layer)\n",
        "  grads = {}\n",
        "  \n",
        "  grads[\"dz\"+str(l-1)]= forward[\"A\"+str(l-1)] - Y\n",
        "  grads[\"dw\"+str(l-1)]=(np.dot(grads[\"dz\"+str(l-1)],forward[\"A\"+str(l-2)].T) / m) + ((lambd/m)*parameters[\"W\"+str(l-1)])\n",
        "  grads[\"db\"+str(l-1)]=np.sum(grads[\"dz\"+str(l-1)],axis=1,keepdims=True) / m \n",
        "  grads[\"da\"+str(l-2)]=np.dot(parameters[\"W\"+str(l-1)].T,grads[\"dz\"+str(l-1)])\n",
        "  \n",
        "  for i in range(l-2,1,-1):\n",
        "    grads[\"dz\"+str(i)]=grads[\"da\"+str(i)]*reluderivative(forward[\"A\"+str(i)])\n",
        "    grads[\"dw\"+str(i)]=(np.dot(grads[\"dz\"+str(i)],forward[\"A\"+str(i-1)].T) / m) + ((lambd/m)*parameters[\"W\"+str(i)])\n",
        "    grads[\"db\"+str(i)]=np.sum(grads[\"dz\"+str(i)],axis=1,keepdims=True)/m\n",
        "    grads[\"da\"+str(i-1)]=np.dot(parameters[\"W\"+str(i)].T,grads[\"dz\"+str(i)])\n",
        "  \n",
        "  grads[\"dz\"+str(1)]=grads[\"da\"+str(1)]*reluderivative(forward[\"A\"+str(1)])\n",
        "  grads[\"dw\"+str(1)]=np.dot(grads[\"dz\"+str(1)],X.T)/m + ((lambd/m)*parameters[\"W\"+str(1)])\n",
        "\n",
        "  grads[\"db\"+str(1)]=np.sum(grads[\"dz\"+str(1)],axis=1,keepdims=True)/m\n",
        "    \n",
        "  return grads"
      ],
      "execution_count": 0,
      "outputs": []
    },
    {
      "metadata": {
        "id": "lVuaLATN9_-W",
        "colab_type": "text"
      },
      "cell_type": "markdown",
      "source": [
        "**function to update the weights and Bais**"
      ]
    },
    {
      "metadata": {
        "id": "uFTDqzihNzJA",
        "colab_type": "text"
      },
      "cell_type": "markdown",
      "source": [
        "Gradient Descent Updation of Weights and Bias"
      ]
    },
    {
      "metadata": {
        "id": "Yim9YcQYhsXp",
        "colab_type": "code",
        "colab": {}
      },
      "cell_type": "code",
      "source": [
        "def optimise(parameters,grads,layer,learning_rate=0.01):\n",
        "  l= len(layer)\n",
        "  \n",
        "  for i in range(1,l):\n",
        "    parameters[\"W\"+str(i)]=parameters[\"W\"+str(i)] - (learning_rate * grads[\"dw\"+str(i)])\n",
        "    parameters[\"b\"+str(i)]=parameters[\"b\"+str(i)] - (learning_rate * grads[\"db\"+str(i)])\n",
        "  \n",
        "  return parameters\n"
      ],
      "execution_count": 0,
      "outputs": []
    },
    {
      "metadata": {
        "id": "ZQQTtWF4SS0m",
        "colab_type": "text"
      },
      "cell_type": "markdown",
      "source": [
        "**Updating parameters with ADAM optimizer**"
      ]
    },
    {
      "metadata": {
        "id": "G1UAB5qzN_3y",
        "colab_type": "text"
      },
      "cell_type": "markdown",
      "source": [
        "Function to optimise parameters if adams Optimizer is choosen to be used"
      ]
    },
    {
      "metadata": {
        "id": "FKKmydKsxC0y",
        "colab_type": "code",
        "colab": {}
      },
      "cell_type": "code",
      "source": [
        "def update_parameters_with_adam(parameters, grads, layer, v, s, t, learning_rate = 0.01, beta1 = 0.9, beta2 = 0.999,  epsilon = 1e-8):\n",
        "    \n",
        "    \n",
        "    L = len(parameters) // 2                 # number of layers in the neural networks\n",
        "    v_corrected = {}                         # Initializing first moment estimate, python dictionary\n",
        "    s_corrected = {}                         # Initializing second moment estimate, python dictionary\n",
        "    \n",
        "    \n",
        "    for l in range(L-1):\n",
        "       \n",
        "        v[\"dW\" + str(l+1)] = beta1 * v['dW' + str(l+1)] + (1-beta1) * grads['dw' + str(l+1)]\n",
        "        v[\"db\" + str(l+1)] = beta1 * v['db' + str(l+1)] + (1-beta1) * grads['db' + str(l+1)]\n",
        "       \n",
        "        v_corrected[\"dw\" + str(l+1)] = v['dW' + str(l+1)] / (1 - np.power(beta1, t))\n",
        "        v_corrected[\"db\" + str(l+1)] = v['db' + str(l+1)] / (1 - np.power(beta1, t))\n",
        "       \n",
        "\n",
        "        s[\"dW\" + str(l+1)] = beta2 * s['dW' + str(l+1)] + (1-beta2) * np.power(grads['dw' + str(l+1)], 2)\n",
        "        s[\"db\" + str(l+1)] = beta2 * s['db' + str(l+1)] + (1-beta2) * np.power(grads['db' + str(l+1)], 2)\n",
        "        \n",
        "        s_corrected[\"dw\" + str(l+1)] = s['dW' + str(l+1)] / (1 - np.power(beta2, t))\n",
        "        s_corrected[\"db\" + str(l+1)] = s['db' + str(l+1)] / (1 - np.power(beta2, t))\n",
        "       \n",
        "        parameters[\"W\" + str(l+1)] = parameters['W' + str(l+1)] - learning_rate * v_corrected['dw' + str(l+1)] / np.sqrt(s_corrected['dw' + str(l+1)] + epsilon)\n",
        "        parameters[\"b\" + str(l+1)] = parameters['b' + str(l+1)] - learning_rate * v_corrected['db' + str(l+1)] / np.sqrt(s_corrected['db' + str(l+1)] + epsilon)\n",
        "       \n",
        "    return parameters, v, s"
      ],
      "execution_count": 0,
      "outputs": []
    },
    {
      "metadata": {
        "id": "ERcdNlRc-K7b",
        "colab_type": "text"
      },
      "cell_type": "markdown",
      "source": [
        "**function to predict result**"
      ]
    },
    {
      "metadata": {
        "id": "__pDc33RjqMd",
        "colab_type": "code",
        "colab": {}
      },
      "cell_type": "code",
      "source": [
        "def predict(X,parameters,layers):\n",
        "  l= len(layer)\n",
        "  fwd = fwd_propagation(X,parameters,layers)\n",
        "  \n",
        "  Y1 = fwd[\"A\"+str(l-1)]\n",
        "  Y2=np.argmax(Y1,axis=0)\n",
        "  \n",
        "  return Y2"
      ],
      "execution_count": 0,
      "outputs": []
    },
    {
      "metadata": {
        "id": "Ujf3LJhHSS0u",
        "colab_type": "text"
      },
      "cell_type": "markdown",
      "source": [
        "**Function to retieve total cost for an epoch using cross-entropy loss function**"
      ]
    },
    {
      "metadata": {
        "id": "oeyoj2FMk-ss",
        "colab_type": "code",
        "colab": {}
      },
      "cell_type": "code",
      "source": [
        "def calculate_cost(Y,forward,parameters,layer,lambd=0.6):\n",
        "  l= len(layer)\n",
        "  m=Y.shape[1]\n",
        "  \n",
        "  cost = (-1 * np.sum((Y * np.log(forward[\"A\"+str(l-1)])) + (1 - Y) * np.log(1 - forward[\"A\"+str(l-1)])) / m) + ((lambd/(2*m))*np.sum(np.square(parameters[\"W\"+str(l-1)])))\n",
        "  \n",
        "  return cost"
      ],
      "execution_count": 0,
      "outputs": []
    },
    {
      "metadata": {
        "id": "J6UPvx3f-WfN",
        "colab_type": "text"
      },
      "cell_type": "markdown",
      "source": [
        "**Final model with all functions merged**"
      ]
    },
    {
      "metadata": {
        "id": "002kCX9NnC2A",
        "colab_type": "code",
        "colab": {}
      },
      "cell_type": "code",
      "source": [
        "def model(X_train,Y_train, X_test, Y_test, layer, keep_prob,mini_batch_size=512, beta1=0.0, beta2=0.0, learning_rate=0.001, iterations = 1500, lambd=0.6):\n",
        "  costs = []\n",
        "  \n",
        "  parameters = initialize(layer)\n",
        "  v, s = initialize_adam(parameters,layer)\n",
        "  t = 0\n",
        "  \n",
        "  for j in range(iterations):\n",
        "  \n",
        "    minibatches = random_mini_batches(X_train,Y_train,mini_batch_size)\n",
        "    \n",
        "    for minibatch in minibatches:\n",
        "      (minibatch_x,minibatch_y) = minibatch\n",
        "      \n",
        "      forward = fwd_propagation_drop(minibatch_x,parameters,layer,keep_prob)\n",
        "      \n",
        "      cost = calculate_cost(minibatch_y,forward,parameters,layer,lambd)\n",
        "      grads = back_prop(minibatch_x,minibatch_y,forward,layer,parameters,lambd)\n",
        "      t=t+1\n",
        "      parameters,v,s = update_parameters_with_adam(parameters, grads, layer, v, s, t, learning_rate,beta1, beta2)\n",
        "    \n",
        "    \n",
        "    if j % 10 == 0:\n",
        "      costs.append(cost)\n",
        "    \n",
        "    if j%100 == 0:\n",
        "      print (\"Cost after iteration %i: %f\" %(j , cost))\n",
        "    #if j == 100:\n",
        "      #par = parameters[:]\n",
        "      \n",
        "  Y_prediction_train = predict(X_train,parameters,layer)\n",
        "  Y_prediction_test = predict(X_test,parameters,layer)\n",
        "\n",
        "  #abb = np.mean(np.abs(Y_prediction_train - Y_train2)) * 100\n",
        "  #abc = np.mean(np.abs(Y_prediction_test - Y_test2)) * 100\n",
        " # print(\"train accuracy: {} %\".format(100 - abb))\n",
        " # print(\"test accuracy: {} %\".format(100 - abc))\n",
        "  \n",
        "  return parameters, grads, forward, costs, Y_prediction_test, Y_prediction_train"
      ],
      "execution_count": 0,
      "outputs": []
    },
    {
      "metadata": {
        "id": "a0_hVeqpR6A_",
        "colab_type": "text"
      },
      "cell_type": "markdown",
      "source": [
        "# Training of model"
      ]
    },
    {
      "metadata": {
        "id": "hRNgLaTqqGrW",
        "colab_type": "text"
      },
      "cell_type": "markdown",
      "source": [
        "**The Model is trained with two scenarios:-**\n",
        "\n",
        "**1) First one is as per the parameter values provided in the assignment**\n",
        "\n",
        "**2) Second is the most optimal found results**"
      ]
    },
    {
      "metadata": {
        "id": "IWyEiRQoqGmQ",
        "colab_type": "text"
      },
      "cell_type": "markdown",
      "source": [
        "##Scenario1\n",
        "\n",
        "**Here as per the parameter values given we have taken only one hidden layer with 100 neurons and no dropouts or Regularization is done, it also follows the whole batck gradient Descent Approach**"
      ]
    },
    {
      "metadata": {
        "id": "zuovrTcKqYD9",
        "colab_type": "code",
        "colab": {
          "base_uri": "https://localhost:8080/",
          "height": 3757
        },
        "outputId": "df87b262-c30f-47ae-9337-060ed70cfc43"
      },
      "cell_type": "code",
      "source": [
        "layer = [10,100,4] #to set number of layers and the number of nodes in hidden layers (here there is only one hidden layer with 100 neurons)\n",
        "keep_prob = [1.0,1.0,1.0] #To set dropout probabilities for each layer (No dropout is used here)\n",
        "para,grd,ford,cst,test,train1 = model(X_train_final, Y_train_final, X_test_final, Y_test_final, layer, keep_prob, mini_batch_size=900, beta1=0.0, beta2=0.0, learning_rate = 0.5, iterations = 22000, lambd = 0.0 )"
      ],
      "execution_count": 143,
      "outputs": [
        {
          "output_type": "stream",
          "text": [
            "Cost after iteration 0: 2.247486\n",
            "Cost after iteration 100: 1.916654\n",
            "Cost after iteration 200: 1.912270\n",
            "Cost after iteration 300: 1.909525\n",
            "Cost after iteration 400: 1.907662\n",
            "Cost after iteration 500: 1.906309\n",
            "Cost after iteration 600: 1.905277\n",
            "Cost after iteration 700: 1.904402\n",
            "Cost after iteration 800: 1.903682\n",
            "Cost after iteration 900: 1.903002\n",
            "Cost after iteration 1000: 1.902374\n",
            "Cost after iteration 1100: 1.901809\n",
            "Cost after iteration 1200: 1.901220\n",
            "Cost after iteration 1300: 1.900672\n",
            "Cost after iteration 1400: 1.900131\n",
            "Cost after iteration 1500: 1.899607\n",
            "Cost after iteration 1600: 1.899098\n",
            "Cost after iteration 1700: 1.898579\n",
            "Cost after iteration 1800: 1.898065\n",
            "Cost after iteration 1900: 1.897584\n",
            "Cost after iteration 2000: 1.897098\n",
            "Cost after iteration 2100: 1.896607\n",
            "Cost after iteration 2200: 1.896144\n",
            "Cost after iteration 2300: 1.895662\n",
            "Cost after iteration 2400: 1.895199\n",
            "Cost after iteration 2500: 1.894735\n",
            "Cost after iteration 2600: 1.894276\n",
            "Cost after iteration 2700: 1.893826\n",
            "Cost after iteration 2800: 1.893380\n",
            "Cost after iteration 2900: 1.892929\n",
            "Cost after iteration 3000: 1.892496\n",
            "Cost after iteration 3100: 1.892051\n",
            "Cost after iteration 3200: 1.891613\n",
            "Cost after iteration 3300: 1.891182\n",
            "Cost after iteration 3400: 1.890729\n",
            "Cost after iteration 3500: 1.890294\n",
            "Cost after iteration 3600: 1.889869\n",
            "Cost after iteration 3700: 1.889443\n",
            "Cost after iteration 3800: 1.889025\n",
            "Cost after iteration 3900: 1.888585\n",
            "Cost after iteration 4000: 1.888136\n",
            "Cost after iteration 4100: 1.887689\n",
            "Cost after iteration 4200: 1.887251\n",
            "Cost after iteration 4300: 1.886843\n",
            "Cost after iteration 4400: 1.886428\n",
            "Cost after iteration 4500: 1.886010\n",
            "Cost after iteration 4600: 1.885594\n",
            "Cost after iteration 4700: 1.885170\n",
            "Cost after iteration 4800: 1.884764\n",
            "Cost after iteration 4900: 1.884373\n",
            "Cost after iteration 5000: 1.883952\n",
            "Cost after iteration 5100: 1.883557\n",
            "Cost after iteration 5200: 1.883156\n",
            "Cost after iteration 5300: 1.882745\n",
            "Cost after iteration 5400: 1.882344\n",
            "Cost after iteration 5500: 1.881955\n",
            "Cost after iteration 5600: 1.881553\n",
            "Cost after iteration 5700: 1.881169\n",
            "Cost after iteration 5800: 1.880757\n",
            "Cost after iteration 5900: 1.880351\n",
            "Cost after iteration 6000: 1.879950\n",
            "Cost after iteration 6100: 1.879542\n",
            "Cost after iteration 6200: 1.879111\n",
            "Cost after iteration 6300: 1.878679\n",
            "Cost after iteration 6400: 1.878252\n",
            "Cost after iteration 6500: 1.877856\n",
            "Cost after iteration 6600: 1.877464\n",
            "Cost after iteration 6700: 1.877088\n",
            "Cost after iteration 6800: 1.876707\n",
            "Cost after iteration 6900: 1.876323\n",
            "Cost after iteration 7000: 1.875945\n",
            "Cost after iteration 7100: 1.875564\n",
            "Cost after iteration 7200: 1.875196\n",
            "Cost after iteration 7300: 1.874824\n"
          ],
          "name": "stdout"
        },
        {
          "output_type": "stream",
          "text": [
            "Cost after iteration 7400: 1.874458\n",
            "Cost after iteration 7500: 1.874094\n",
            "Cost after iteration 7600: 1.873726\n",
            "Cost after iteration 7700: 1.873355\n",
            "Cost after iteration 7800: 1.872997\n",
            "Cost after iteration 7900: 1.872625\n",
            "Cost after iteration 8000: 1.872269\n",
            "Cost after iteration 8100: 1.871901\n",
            "Cost after iteration 8200: 1.871543\n",
            "Cost after iteration 8300: 1.871189\n",
            "Cost after iteration 8400: 1.870848\n",
            "Cost after iteration 8500: 1.870484\n",
            "Cost after iteration 8600: 1.870127\n",
            "Cost after iteration 8700: 1.869773\n",
            "Cost after iteration 8800: 1.869413\n",
            "Cost after iteration 8900: 1.869051\n",
            "Cost after iteration 9000: 1.868708\n",
            "Cost after iteration 9100: 1.868367\n",
            "Cost after iteration 9200: 1.868028\n",
            "Cost after iteration 9300: 1.867684\n",
            "Cost after iteration 9400: 1.867343\n",
            "Cost after iteration 9500: 1.867004\n",
            "Cost after iteration 9600: 1.866672\n",
            "Cost after iteration 9700: 1.866331\n",
            "Cost after iteration 9800: 1.866006\n",
            "Cost after iteration 9900: 1.865673\n",
            "Cost after iteration 10000: 1.865335\n",
            "Cost after iteration 10100: 1.865018\n",
            "Cost after iteration 10200: 1.864683\n",
            "Cost after iteration 10300: 1.864362\n",
            "Cost after iteration 10400: 1.864029\n",
            "Cost after iteration 10500: 1.863702\n",
            "Cost after iteration 10600: 1.863355\n",
            "Cost after iteration 10700: 1.863016\n",
            "Cost after iteration 10800: 1.862677\n",
            "Cost after iteration 10900: 1.862355\n",
            "Cost after iteration 11000: 1.862015\n",
            "Cost after iteration 11100: 1.861640\n",
            "Cost after iteration 11200: 1.861163\n",
            "Cost after iteration 11300: 1.860889\n",
            "Cost after iteration 11400: 1.860480\n",
            "Cost after iteration 11500: 1.860160\n",
            "Cost after iteration 11600: 1.859807\n",
            "Cost after iteration 11700: 1.859516\n",
            "Cost after iteration 11800: 1.859152\n",
            "Cost after iteration 11900: 1.858809\n",
            "Cost after iteration 12000: 1.858467\n",
            "Cost after iteration 12100: 1.858141\n",
            "Cost after iteration 12200: 1.857727\n",
            "Cost after iteration 12300: 1.857396\n",
            "Cost after iteration 12400: 1.856996\n",
            "Cost after iteration 12500: 1.856621\n",
            "Cost after iteration 12600: 1.856285\n",
            "Cost after iteration 12700: 1.855873\n",
            "Cost after iteration 12800: 1.855507\n",
            "Cost after iteration 12900: 1.855083\n",
            "Cost after iteration 13000: 1.854734\n",
            "Cost after iteration 13100: 1.854372\n",
            "Cost after iteration 13200: 1.853991\n",
            "Cost after iteration 13300: 1.853583\n",
            "Cost after iteration 13400: 1.853239\n",
            "Cost after iteration 13500: 1.852834\n",
            "Cost after iteration 13600: 1.852455\n",
            "Cost after iteration 13700: 1.852026\n",
            "Cost after iteration 13800: 1.851628\n",
            "Cost after iteration 13900: 1.851232\n",
            "Cost after iteration 14000: 1.850805\n",
            "Cost after iteration 14100: 1.850448\n",
            "Cost after iteration 14200: 1.850085\n",
            "Cost after iteration 14300: 1.849705\n",
            "Cost after iteration 14400: 1.849340\n",
            "Cost after iteration 14500: 1.848954\n",
            "Cost after iteration 14600: 1.848600\n"
          ],
          "name": "stdout"
        },
        {
          "output_type": "stream",
          "text": [
            "Cost after iteration 14700: 1.848292\n",
            "Cost after iteration 14800: 1.847910\n",
            "Cost after iteration 14900: 1.847407\n",
            "Cost after iteration 15000: 1.847008\n",
            "Cost after iteration 15100: 1.846652\n",
            "Cost after iteration 15200: 1.846263\n",
            "Cost after iteration 15300: 1.845882\n",
            "Cost after iteration 15400: 1.845497\n",
            "Cost after iteration 15500: 1.845103\n",
            "Cost after iteration 15600: 1.844674\n",
            "Cost after iteration 15700: 1.844317\n",
            "Cost after iteration 15800: 1.843895\n",
            "Cost after iteration 15900: 1.843454\n",
            "Cost after iteration 16000: 1.843046\n",
            "Cost after iteration 16100: 1.842659\n",
            "Cost after iteration 16200: 1.842228\n",
            "Cost after iteration 16300: 1.841719\n",
            "Cost after iteration 16400: 1.841391\n",
            "Cost after iteration 16500: 1.841033\n",
            "Cost after iteration 16600: 1.840743\n",
            "Cost after iteration 16700: 1.840360\n",
            "Cost after iteration 16800: 1.839973\n",
            "Cost after iteration 16900: 1.839653\n",
            "Cost after iteration 17000: 1.839312\n",
            "Cost after iteration 17100: 1.838983\n",
            "Cost after iteration 17200: 1.838612\n",
            "Cost after iteration 17300: 1.838291\n",
            "Cost after iteration 17400: 1.838018\n",
            "Cost after iteration 17500: 1.837609\n",
            "Cost after iteration 17600: 1.837336\n",
            "Cost after iteration 17700: 1.836965\n",
            "Cost after iteration 17800: 1.836597\n",
            "Cost after iteration 17900: 1.836235\n",
            "Cost after iteration 18000: 1.835975\n",
            "Cost after iteration 18100: 1.835624\n",
            "Cost after iteration 18200: 1.835236\n",
            "Cost after iteration 18300: 1.834940\n",
            "Cost after iteration 18400: 1.834602\n",
            "Cost after iteration 18500: 1.834289\n",
            "Cost after iteration 18600: 1.833970\n",
            "Cost after iteration 18700: 1.833690\n",
            "Cost after iteration 18800: 1.833273\n",
            "Cost after iteration 18900: 1.832962\n",
            "Cost after iteration 19000: 1.832678\n",
            "Cost after iteration 19100: 1.832305\n",
            "Cost after iteration 19200: 1.832014\n",
            "Cost after iteration 19300: 1.831656\n",
            "Cost after iteration 19400: 1.831371\n",
            "Cost after iteration 19500: 1.831036\n",
            "Cost after iteration 19600: 1.830655\n",
            "Cost after iteration 19700: 1.830368\n",
            "Cost after iteration 19800: 1.830188\n",
            "Cost after iteration 19900: 1.829764\n",
            "Cost after iteration 20000: 1.829496\n",
            "Cost after iteration 20100: 1.829150\n",
            "Cost after iteration 20200: 1.828779\n",
            "Cost after iteration 20300: 1.828541\n",
            "Cost after iteration 20400: 1.828206\n",
            "Cost after iteration 20500: 1.827923\n",
            "Cost after iteration 20600: 1.827607\n",
            "Cost after iteration 20700: 1.827402\n",
            "Cost after iteration 20800: 1.827032\n",
            "Cost after iteration 20900: 1.826776\n",
            "Cost after iteration 21000: 1.826494\n",
            "Cost after iteration 21100: 1.826218\n",
            "Cost after iteration 21200: 1.825904\n",
            "Cost after iteration 21300: 1.825621\n",
            "Cost after iteration 21400: 1.825316\n",
            "Cost after iteration 21500: 1.824999\n",
            "Cost after iteration 21600: 1.824730\n",
            "Cost after iteration 21700: 1.824410\n",
            "Cost after iteration 21800: 1.824238\n",
            "Cost after iteration 21900: 1.823886\n"
          ],
          "name": "stdout"
        }
      ]
    },
    {
      "metadata": {
        "id": "HyrN6mJqqGCM",
        "colab_type": "code",
        "colab": {
          "base_uri": "https://localhost:8080/",
          "height": 68
        },
        "outputId": "74554486-4d02-47e5-9286-0ec13bd19b70"
      },
      "cell_type": "code",
      "source": [
        "print(test)"
      ],
      "execution_count": 144,
      "outputs": [
        {
          "output_type": "stream",
          "text": [
            "[0 0 0 0 0 0 0 0 0 0 0 0 0 0 0 0 0 0 0 0 0 0 0 0 0 0 0 0 0 0 0 1 0 0 0 0 0\n",
            " 0 0 0 0 1 0 0 0 0 0 0 0 0 0 0 0 0 0 0 0 0 0 0 0 0 0 0 0 0 0 0 0 0 0 0 0 0\n",
            " 0 0 0 0 0 0 0 0 0 0 0 0 0 0 0 0 0 0 0 0 0 0 0 0 0 1]\n"
          ],
          "name": "stdout"
        }
      ]
    },
    {
      "metadata": {
        "id": "4OUw77pXqFyd",
        "colab_type": "code",
        "colab": {
          "base_uri": "https://localhost:8080/",
          "height": 85
        },
        "outputId": "69478578-04dc-497f-87fd-1558e5cb4717"
      },
      "cell_type": "code",
      "source": [
        "#for test set\n",
        "exam = np.zeros((1,100))\n",
        "exam1 = np.zeros((1,100))\n",
        "exam2 = np.zeros((1,100))\n",
        "exam3 = np.zeros((1,100))\n",
        "exam = train1 - Y_train2\n",
        "exam1 = test - Y_test2\n",
        "exam1[exam1!=0]=1\n",
        "exam[exam!=0]=1\n",
        "\n",
        "fp_train = np.sum(exam)\n",
        "fp_test = np.sum(exam1)\n",
        "\n",
        "corr_train = 900-fp_train\n",
        "corr_test = 100-fp_test\n",
        "accu_train = (corr_train/900)*100\n",
        "accu_test = (corr_test/100)*100\n",
        "\n",
        "print(\"true positive for train= \"+ str(corr_train))\n",
        "print(\"true positive for test= \"+ str(corr_test))\n",
        "print(\"Training Set Accuracy = \"+ str(accu_train)+\"%\")\n",
        "print(\"Test Set Accuracy = \"+ str(accu_test)+\"%\")\n",
        "\n"
      ],
      "execution_count": 145,
      "outputs": [
        {
          "output_type": "stream",
          "text": [
            "true positive for train= 483\n",
            "true positive for test= 53\n",
            "Training Set Accuracy = 53.666666666666664%\n",
            "Test Set Accuracy = 53.0%\n"
          ],
          "name": "stdout"
        }
      ]
    },
    {
      "metadata": {
        "id": "7w3xqz8VqFB6",
        "colab_type": "code",
        "colab": {
          "base_uri": "https://localhost:8080/",
          "height": 294
        },
        "outputId": "59eefc76-d20c-4a66-b88c-6471c77d8bef"
      },
      "cell_type": "code",
      "source": [
        "costs = np.squeeze(cst)\n",
        "plt.plot(costs)\n",
        "plt.ylabel('cost')\n",
        "plt.xlabel('iterations (per hundreds)')\n",
        "plt.title(\"Learning rate =\" + str(0.01)+\"Without ADAM\")\n",
        "plt.show()"
      ],
      "execution_count": 146,
      "outputs": [
        {
          "output_type": "display_data",
          "data": {
            "image/png": "[encoded data removed]",
            "text/plain": [
              "<matplotlib.figure.Figure at 0x7fd347709e10>"
            ]
          },
          "metadata": {
            "tags": []
          }
        }
      ]
    },
    {
      "metadata": {
        "id": "RVneVCf1r8yx",
        "colab_type": "text"
      },
      "cell_type": "markdown",
      "source": [
        "##Results Observed\n",
        "\n",
        "** The training of the model takes too many iterations and the accuracy value obtained is really low**"
      ]
    },
    {
      "metadata": {
        "id": "6PCVNa8vr9HM",
        "colab_type": "text"
      },
      "cell_type": "markdown",
      "source": [
        "##Scenario 2\n",
        "\n",
        "**Here the Parameters are optimised in a trial and error format to obtain the maximum accuracy, Here The network has 3 hidden layers with 40,25,and 15 neurons respectively and Droputs is used along with mini-batch Gradient Descent while Adam's Optimization is used to Minimise the cost fluctuation in Mini-Batch Gradient Descent**"
      ]
    },
    {
      "metadata": {
        "id": "qeowsx09rnQq",
        "colab_type": "code",
        "colab": {
          "base_uri": "https://localhost:8080/",
          "height": 476
        },
        "outputId": "7a2fada4-b179-4a66-fef0-e5ec2dac6c58"
      },
      "cell_type": "code",
      "source": [
        "layer = [10,40,25,15,4] #to set number of layers and the number of nodes in hidden layers\n",
        "keep_prob = [1.0,1.0,0.8,0.7,1.0] #To set dropout probabilities for each layer\n",
        "para,grd,ford,cst,test,train1 = model(X_train_final, Y_train_final, X_test_final, Y_test_final, layer, keep_prob, mini_batch_size=64, beta1=0.9, beta2=0.99, learning_rate = 0.01, iterations = 2300, lambd = 0.0 ) "
      ],
      "execution_count": 111,
      "outputs": [
        {
          "output_type": "stream",
          "text": [
            "Cost after iteration 0: 2.239360\n",
            "Cost after iteration 100: 2.782453\n",
            "Cost after iteration 200: 2.011477\n",
            "Cost after iteration 300: 0.853013\n",
            "Cost after iteration 400: 0.420394\n",
            "Cost after iteration 500: 1.202766\n",
            "Cost after iteration 600: 0.634106\n",
            "Cost after iteration 700: 1.485248\n",
            "Cost after iteration 800: 0.090717\n",
            "Cost after iteration 900: 0.007900\n",
            "Cost after iteration 1000: 0.063177\n",
            "Cost after iteration 1100: 0.003229\n"
          ],
          "name": "stdout"
        },
        {
          "output_type": "stream",
          "text": [
            "/usr/local/lib/python3.6/dist-packages/ipykernel_launcher.py:5: RuntimeWarning: divide by zero encountered in log\n",
            "  \"\"\"\n",
            "/usr/local/lib/python3.6/dist-packages/ipykernel_launcher.py:5: RuntimeWarning: invalid value encountered in multiply\n",
            "  \"\"\"\n"
          ],
          "name": "stderr"
        },
        {
          "output_type": "stream",
          "text": [
            "Cost after iteration 1200: 1.392841\n",
            "Cost after iteration 1300: 0.194062\n",
            "Cost after iteration 1400: 0.211843\n",
            "Cost after iteration 1500: 0.068209\n",
            "Cost after iteration 1600: 0.559016\n",
            "Cost after iteration 1700: 1.692567\n",
            "Cost after iteration 1800: 0.164614\n",
            "Cost after iteration 1900: 0.002012\n",
            "Cost after iteration 2000: 0.006288\n",
            "Cost after iteration 2100: 0.570533\n",
            "Cost after iteration 2200: 0.000050\n"
          ],
          "name": "stdout"
        }
      ]
    },
    {
      "metadata": {
        "id": "lEKN0M1B5q1F",
        "colab_type": "code",
        "colab": {
          "base_uri": "https://localhost:8080/",
          "height": 68
        },
        "outputId": "e06b16d8-f706-498e-f596-29ba27302754"
      },
      "cell_type": "code",
      "source": [
        "print(test)"
      ],
      "execution_count": 113,
      "outputs": [
        {
          "output_type": "stream",
          "text": [
            "[0 0 1 0 2 1 0 0 1 2 0 1 0 0 3 0 0 1 0 2 1 0 0 1 2 0 1 0 0 3 0 0 1 0 2 1 0\n",
            " 0 1 2 0 1 0 0 3 0 0 1 0 2 1 0 0 1 2 0 1 0 0 3 0 0 1 0 2 1 0 1 1 2 0 1 0 0\n",
            " 3 0 0 1 0 2 1 0 0 1 2 0 1 0 0 3 0 0 1 0 2 1 0 0 1 2]\n"
          ],
          "name": "stdout"
        }
      ]
    },
    {
      "metadata": {
        "id": "Fibc4kTOSS09",
        "colab_type": "text"
      },
      "cell_type": "markdown",
      "source": [
        "**Finding the distribution of correct positive and negative predictions for the Validation set**"
      ]
    },
    {
      "metadata": {
        "id": "1XoWDR6YFePa",
        "colab_type": "code",
        "colab": {
          "base_uri": "https://localhost:8080/",
          "height": 85
        },
        "outputId": "0e6cd0e0-1dea-4eec-c59c-8519b67f9edc"
      },
      "cell_type": "code",
      "source": [
        "#for test set\n",
        "exam = np.zeros((1,100))\n",
        "exam1 = np.zeros((1,100))\n",
        "exam2 = np.zeros((1,100))\n",
        "exam3 = np.zeros((1,100))\n",
        "exam = train1 - Y_train2\n",
        "exam1 = test - Y_test2\n",
        "exam1[exam1!=0]=1\n",
        "exam[exam!=0]=1\n",
        "\n",
        "fp_train = np.sum(exam)\n",
        "fp_test = np.sum(exam1)\n",
        "\n",
        "corr_train = 900-fp_train\n",
        "corr_test = 100-fp_test\n",
        "accu_train = (corr_train/900)*100\n",
        "accu_test = (corr_test/100)*100\n",
        "\n",
        "print(\"true positive for train= \"+ str(corr_train))\n",
        "print(\"true positive for test= \"+ str(corr_test))\n",
        "print(\"Training Set Accuracy = \"+ str(accu_train)+\"%\")\n",
        "print(\"Test Set Accuracy = \"+ str(accu_test)+\"%\")\n",
        "\n"
      ],
      "execution_count": 112,
      "outputs": [
        {
          "output_type": "stream",
          "text": [
            "true positive for train= 900\n",
            "true positive for test= 99\n",
            "Training Set Accuracy = 100.0%\n",
            "Test Set Accuracy = 99.0%\n"
          ],
          "name": "stdout"
        }
      ]
    },
    {
      "metadata": {
        "id": "g7Ib13mRR6BG",
        "colab_type": "text"
      },
      "cell_type": "markdown",
      "source": [
        "**Graph for the reducing loss of the training set**"
      ]
    },
    {
      "metadata": {
        "id": "hBu6gKuvNxSG",
        "colab_type": "code",
        "colab": {
          "base_uri": "https://localhost:8080/",
          "height": 294
        },
        "outputId": "823ab126-d172-485e-8987-f2114c4b81d0"
      },
      "cell_type": "code",
      "source": [
        "costs = np.squeeze(cst)\n",
        "plt.plot(costs)\n",
        "plt.ylabel('cost')\n",
        "plt.xlabel('iterations (per hundreds)')\n",
        "plt.title(\"Learning rate =\" + str(0.01)+\" , With Mini-Batch and ADAM\")\n",
        "plt.show()"
      ],
      "execution_count": 117,
      "outputs": [
        {
          "output_type": "display_data",
          "data": {
            "image/png": "[encoded data removed]",
            "text/plain": [
              "<matplotlib.figure.Figure at 0x7fd347912208>"
            ]
          },
          "metadata": {
            "tags": []
          }
        }
      ]
    },
    {
      "metadata": {
        "id": "9jIVGowXtFBz",
        "colab_type": "text"
      },
      "cell_type": "markdown",
      "source": [
        "##Results Observed\n",
        "\n",
        "** This combination of parameter values gave a really high validation accuracy of nearly 100% with a very less number of epochs of 2300 count**"
      ]
    },
    {
      "metadata": {
        "id": "yypIMl7e0cDx",
        "colab_type": "text"
      },
      "cell_type": "markdown",
      "source": [
        "#Final Results Displayed Below"
      ]
    },
    {
      "metadata": {
        "id": "Rg2V_Tw4n9Ft",
        "colab_type": "code",
        "colab": {
          "base_uri": "https://localhost:8080/",
          "height": 2292
        },
        "outputId": "bc8daf27-caba-4cca-f048-e3263409661a"
      },
      "cell_type": "code",
      "source": [
        "u = np.zeros((100,3))\n",
        "u[:,0]=arr[:100,0]\n",
        "u[:,1]=test[:]\n",
        "\n",
        "columns=['Input','Prediction','Output']\n",
        "\n",
        "import pandas as pd\n",
        "u1 = pd.DataFrame(u,columns=columns)\n",
        "\n",
        "for i in range(100):\n",
        "  if u[i][1]==0:\n",
        "    u1['Output'][i] = u1['Input'][i]\n",
        "  elif u[i][1]==1:\n",
        "    u1['Output'][i] = 'Fizz'\n",
        "  elif u[i][1]==2:\n",
        "    u1['Output'][i] = 'Buzz'\n",
        "  elif u[i][1]==3:\n",
        "    u1['Output'][i] = 'Fizz-Buzz'\n",
        "u1\n"
      ],
      "execution_count": 141,
      "outputs": [
        {
          "output_type": "stream",
          "text": [
            "/usr/local/lib/python3.6/dist-packages/ipykernel_launcher.py:12: SettingWithCopyWarning: \n",
            "A value is trying to be set on a copy of a slice from a DataFrame\n",
            "\n",
            "See the caveats in the documentation: http://pandas.pydata.org/pandas-docs/stable/indexing.html#indexing-view-versus-copy\n",
            "  if sys.path[0] == '':\n",
            "/usr/local/lib/python3.6/dist-packages/ipykernel_launcher.py:16: SettingWithCopyWarning: \n",
            "A value is trying to be set on a copy of a slice from a DataFrame\n",
            "\n",
            "See the caveats in the documentation: http://pandas.pydata.org/pandas-docs/stable/indexing.html#indexing-view-versus-copy\n",
            "  app.launch_new_instance()\n",
            "/usr/local/lib/python3.6/dist-packages/ipykernel_launcher.py:14: SettingWithCopyWarning: \n",
            "A value is trying to be set on a copy of a slice from a DataFrame\n",
            "\n",
            "See the caveats in the documentation: http://pandas.pydata.org/pandas-docs/stable/indexing.html#indexing-view-versus-copy\n",
            "  \n",
            "/usr/local/lib/python3.6/dist-packages/ipykernel_launcher.py:18: SettingWithCopyWarning: \n",
            "A value is trying to be set on a copy of a slice from a DataFrame\n",
            "\n",
            "See the caveats in the documentation: http://pandas.pydata.org/pandas-docs/stable/indexing.html#indexing-view-versus-copy\n"
          ],
          "name": "stderr"
        },
        {
          "output_type": "execute_result",
          "data": {
            "text/html": [
              "<div>\n",
              "<style scoped>\n",
              "    .dataframe tbody tr th:only-of-type {\n",
              "        vertical-align: middle;\n",
              "    }\n",
              "\n",
              "    .dataframe tbody tr th {\n",
              "        vertical-align: top;\n",
              "    }\n",
              "\n",
              "    .dataframe thead th {\n",
              "        text-align: right;\n",
              "    }\n",
              "</style>\n",
              "<table border=\"1\" class=\"dataframe\">\n",
              "  <thead>\n",
              "    <tr style=\"text-align: right;\">\n",
              "      <th></th>\n",
              "      <th>Input</th>\n",
              "      <th>Prediction</th>\n",
              "      <th>Output</th>\n",
              "    </tr>\n",
              "  </thead>\n",
              "  <tbody>\n",
              "    <tr>\n",
              "      <th>0</th>\n",
              "      <td>1.0</td>\n",
              "      <td>0.0</td>\n",
              "      <td>1</td>\n",
              "    </tr>\n",
              "    <tr>\n",
              "      <th>1</th>\n",
              "      <td>2.0</td>\n",
              "      <td>0.0</td>\n",
              "      <td>2</td>\n",
              "    </tr>\n",
              "    <tr>\n",
              "      <th>2</th>\n",
              "      <td>3.0</td>\n",
              "      <td>1.0</td>\n",
              "      <td>Fizz</td>\n",
              "    </tr>\n",
              "    <tr>\n",
              "      <th>3</th>\n",
              "      <td>4.0</td>\n",
              "      <td>0.0</td>\n",
              "      <td>4</td>\n",
              "    </tr>\n",
              "    <tr>\n",
              "      <th>4</th>\n",
              "      <td>5.0</td>\n",
              "      <td>2.0</td>\n",
              "      <td>Buzz</td>\n",
              "    </tr>\n",
              "    <tr>\n",
              "      <th>5</th>\n",
              "      <td>6.0</td>\n",
              "      <td>1.0</td>\n",
              "      <td>Fizz</td>\n",
              "    </tr>\n",
              "    <tr>\n",
              "      <th>6</th>\n",
              "      <td>7.0</td>\n",
              "      <td>0.0</td>\n",
              "      <td>7</td>\n",
              "    </tr>\n",
              "    <tr>\n",
              "      <th>7</th>\n",
              "      <td>8.0</td>\n",
              "      <td>0.0</td>\n",
              "      <td>8</td>\n",
              "    </tr>\n",
              "    <tr>\n",
              "      <th>8</th>\n",
              "      <td>9.0</td>\n",
              "      <td>1.0</td>\n",
              "      <td>Fizz</td>\n",
              "    </tr>\n",
              "    <tr>\n",
              "      <th>9</th>\n",
              "      <td>10.0</td>\n",
              "      <td>2.0</td>\n",
              "      <td>Buzz</td>\n",
              "    </tr>\n",
              "    <tr>\n",
              "      <th>10</th>\n",
              "      <td>11.0</td>\n",
              "      <td>0.0</td>\n",
              "      <td>11</td>\n",
              "    </tr>\n",
              "    <tr>\n",
              "      <th>11</th>\n",
              "      <td>12.0</td>\n",
              "      <td>1.0</td>\n",
              "      <td>Fizz</td>\n",
              "    </tr>\n",
              "    <tr>\n",
              "      <th>12</th>\n",
              "      <td>13.0</td>\n",
              "      <td>0.0</td>\n",
              "      <td>13</td>\n",
              "    </tr>\n",
              "    <tr>\n",
              "      <th>13</th>\n",
              "      <td>14.0</td>\n",
              "      <td>0.0</td>\n",
              "      <td>14</td>\n",
              "    </tr>\n",
              "    <tr>\n",
              "      <th>14</th>\n",
              "      <td>15.0</td>\n",
              "      <td>3.0</td>\n",
              "      <td>Fizz-Buzz</td>\n",
              "    </tr>\n",
              "    <tr>\n",
              "      <th>15</th>\n",
              "      <td>16.0</td>\n",
              "      <td>0.0</td>\n",
              "      <td>16</td>\n",
              "    </tr>\n",
              "    <tr>\n",
              "      <th>16</th>\n",
              "      <td>17.0</td>\n",
              "      <td>0.0</td>\n",
              "      <td>17</td>\n",
              "    </tr>\n",
              "    <tr>\n",
              "      <th>17</th>\n",
              "      <td>18.0</td>\n",
              "      <td>1.0</td>\n",
              "      <td>Fizz</td>\n",
              "    </tr>\n",
              "    <tr>\n",
              "      <th>18</th>\n",
              "      <td>19.0</td>\n",
              "      <td>0.0</td>\n",
              "      <td>19</td>\n",
              "    </tr>\n",
              "    <tr>\n",
              "      <th>19</th>\n",
              "      <td>20.0</td>\n",
              "      <td>2.0</td>\n",
              "      <td>Buzz</td>\n",
              "    </tr>\n",
              "    <tr>\n",
              "      <th>20</th>\n",
              "      <td>21.0</td>\n",
              "      <td>1.0</td>\n",
              "      <td>Fizz</td>\n",
              "    </tr>\n",
              "    <tr>\n",
              "      <th>21</th>\n",
              "      <td>22.0</td>\n",
              "      <td>0.0</td>\n",
              "      <td>22</td>\n",
              "    </tr>\n",
              "    <tr>\n",
              "      <th>22</th>\n",
              "      <td>23.0</td>\n",
              "      <td>0.0</td>\n",
              "      <td>23</td>\n",
              "    </tr>\n",
              "    <tr>\n",
              "      <th>23</th>\n",
              "      <td>24.0</td>\n",
              "      <td>1.0</td>\n",
              "      <td>Fizz</td>\n",
              "    </tr>\n",
              "    <tr>\n",
              "      <th>24</th>\n",
              "      <td>25.0</td>\n",
              "      <td>2.0</td>\n",
              "      <td>Buzz</td>\n",
              "    </tr>\n",
              "    <tr>\n",
              "      <th>25</th>\n",
              "      <td>26.0</td>\n",
              "      <td>0.0</td>\n",
              "      <td>26</td>\n",
              "    </tr>\n",
              "    <tr>\n",
              "      <th>26</th>\n",
              "      <td>27.0</td>\n",
              "      <td>1.0</td>\n",
              "      <td>Fizz</td>\n",
              "    </tr>\n",
              "    <tr>\n",
              "      <th>27</th>\n",
              "      <td>28.0</td>\n",
              "      <td>0.0</td>\n",
              "      <td>28</td>\n",
              "    </tr>\n",
              "    <tr>\n",
              "      <th>28</th>\n",
              "      <td>29.0</td>\n",
              "      <td>0.0</td>\n",
              "      <td>29</td>\n",
              "    </tr>\n",
              "    <tr>\n",
              "      <th>29</th>\n",
              "      <td>30.0</td>\n",
              "      <td>3.0</td>\n",
              "      <td>Fizz-Buzz</td>\n",
              "    </tr>\n",
              "    <tr>\n",
              "      <th>...</th>\n",
              "      <td>...</td>\n",
              "      <td>...</td>\n",
              "      <td>...</td>\n",
              "    </tr>\n",
              "    <tr>\n",
              "      <th>70</th>\n",
              "      <td>71.0</td>\n",
              "      <td>0.0</td>\n",
              "      <td>71</td>\n",
              "    </tr>\n",
              "    <tr>\n",
              "      <th>71</th>\n",
              "      <td>72.0</td>\n",
              "      <td>1.0</td>\n",
              "      <td>Fizz</td>\n",
              "    </tr>\n",
              "    <tr>\n",
              "      <th>72</th>\n",
              "      <td>73.0</td>\n",
              "      <td>0.0</td>\n",
              "      <td>73</td>\n",
              "    </tr>\n",
              "    <tr>\n",
              "      <th>73</th>\n",
              "      <td>74.0</td>\n",
              "      <td>0.0</td>\n",
              "      <td>74</td>\n",
              "    </tr>\n",
              "    <tr>\n",
              "      <th>74</th>\n",
              "      <td>75.0</td>\n",
              "      <td>3.0</td>\n",
              "      <td>Fizz-Buzz</td>\n",
              "    </tr>\n",
              "    <tr>\n",
              "      <th>75</th>\n",
              "      <td>76.0</td>\n",
              "      <td>0.0</td>\n",
              "      <td>76</td>\n",
              "    </tr>\n",
              "    <tr>\n",
              "      <th>76</th>\n",
              "      <td>77.0</td>\n",
              "      <td>0.0</td>\n",
              "      <td>77</td>\n",
              "    </tr>\n",
              "    <tr>\n",
              "      <th>77</th>\n",
              "      <td>78.0</td>\n",
              "      <td>1.0</td>\n",
              "      <td>Fizz</td>\n",
              "    </tr>\n",
              "    <tr>\n",
              "      <th>78</th>\n",
              "      <td>79.0</td>\n",
              "      <td>0.0</td>\n",
              "      <td>79</td>\n",
              "    </tr>\n",
              "    <tr>\n",
              "      <th>79</th>\n",
              "      <td>80.0</td>\n",
              "      <td>2.0</td>\n",
              "      <td>Buzz</td>\n",
              "    </tr>\n",
              "    <tr>\n",
              "      <th>80</th>\n",
              "      <td>81.0</td>\n",
              "      <td>1.0</td>\n",
              "      <td>Fizz</td>\n",
              "    </tr>\n",
              "    <tr>\n",
              "      <th>81</th>\n",
              "      <td>82.0</td>\n",
              "      <td>0.0</td>\n",
              "      <td>82</td>\n",
              "    </tr>\n",
              "    <tr>\n",
              "      <th>82</th>\n",
              "      <td>83.0</td>\n",
              "      <td>0.0</td>\n",
              "      <td>83</td>\n",
              "    </tr>\n",
              "    <tr>\n",
              "      <th>83</th>\n",
              "      <td>84.0</td>\n",
              "      <td>1.0</td>\n",
              "      <td>Fizz</td>\n",
              "    </tr>\n",
              "    <tr>\n",
              "      <th>84</th>\n",
              "      <td>85.0</td>\n",
              "      <td>2.0</td>\n",
              "      <td>Buzz</td>\n",
              "    </tr>\n",
              "    <tr>\n",
              "      <th>85</th>\n",
              "      <td>86.0</td>\n",
              "      <td>0.0</td>\n",
              "      <td>86</td>\n",
              "    </tr>\n",
              "    <tr>\n",
              "      <th>86</th>\n",
              "      <td>87.0</td>\n",
              "      <td>1.0</td>\n",
              "      <td>Fizz</td>\n",
              "    </tr>\n",
              "    <tr>\n",
              "      <th>87</th>\n",
              "      <td>88.0</td>\n",
              "      <td>0.0</td>\n",
              "      <td>88</td>\n",
              "    </tr>\n",
              "    <tr>\n",
              "      <th>88</th>\n",
              "      <td>89.0</td>\n",
              "      <td>0.0</td>\n",
              "      <td>89</td>\n",
              "    </tr>\n",
              "    <tr>\n",
              "      <th>89</th>\n",
              "      <td>90.0</td>\n",
              "      <td>3.0</td>\n",
              "      <td>Fizz-Buzz</td>\n",
              "    </tr>\n",
              "    <tr>\n",
              "      <th>90</th>\n",
              "      <td>91.0</td>\n",
              "      <td>0.0</td>\n",
              "      <td>91</td>\n",
              "    </tr>\n",
              "    <tr>\n",
              "      <th>91</th>\n",
              "      <td>92.0</td>\n",
              "      <td>0.0</td>\n",
              "      <td>92</td>\n",
              "    </tr>\n",
              "    <tr>\n",
              "      <th>92</th>\n",
              "      <td>93.0</td>\n",
              "      <td>1.0</td>\n",
              "      <td>Fizz</td>\n",
              "    </tr>\n",
              "    <tr>\n",
              "      <th>93</th>\n",
              "      <td>94.0</td>\n",
              "      <td>0.0</td>\n",
              "      <td>94</td>\n",
              "    </tr>\n",
              "    <tr>\n",
              "      <th>94</th>\n",
              "      <td>95.0</td>\n",
              "      <td>2.0</td>\n",
              "      <td>Buzz</td>\n",
              "    </tr>\n",
              "    <tr>\n",
              "      <th>95</th>\n",
              "      <td>96.0</td>\n",
              "      <td>1.0</td>\n",
              "      <td>Fizz</td>\n",
              "    </tr>\n",
              "    <tr>\n",
              "      <th>96</th>\n",
              "      <td>97.0</td>\n",
              "      <td>0.0</td>\n",
              "      <td>97</td>\n",
              "    </tr>\n",
              "    <tr>\n",
              "      <th>97</th>\n",
              "      <td>98.0</td>\n",
              "      <td>0.0</td>\n",
              "      <td>98</td>\n",
              "    </tr>\n",
              "    <tr>\n",
              "      <th>98</th>\n",
              "      <td>99.0</td>\n",
              "      <td>1.0</td>\n",
              "      <td>Fizz</td>\n",
              "    </tr>\n",
              "    <tr>\n",
              "      <th>99</th>\n",
              "      <td>100.0</td>\n",
              "      <td>2.0</td>\n",
              "      <td>Buzz</td>\n",
              "    </tr>\n",
              "  </tbody>\n",
              "</table>\n",
              "<p>100 rows × 3 columns</p>\n",
              "</div>"
            ],
            "text/plain": [
              "    Input  Prediction     Output\n",
              "0     1.0         0.0          1\n",
              "1     2.0         0.0          2\n",
              "2     3.0         1.0       Fizz\n",
              "3     4.0         0.0          4\n",
              "4     5.0         2.0       Buzz\n",
              "5     6.0         1.0       Fizz\n",
              "6     7.0         0.0          7\n",
              "7     8.0         0.0          8\n",
              "8     9.0         1.0       Fizz\n",
              "9    10.0         2.0       Buzz\n",
              "10   11.0         0.0         11\n",
              "11   12.0         1.0       Fizz\n",
              "12   13.0         0.0         13\n",
              "13   14.0         0.0         14\n",
              "14   15.0         3.0  Fizz-Buzz\n",
              "15   16.0         0.0         16\n",
              "16   17.0         0.0         17\n",
              "17   18.0         1.0       Fizz\n",
              "18   19.0         0.0         19\n",
              "19   20.0         2.0       Buzz\n",
              "20   21.0         1.0       Fizz\n",
              "21   22.0         0.0         22\n",
              "22   23.0         0.0         23\n",
              "23   24.0         1.0       Fizz\n",
              "24   25.0         2.0       Buzz\n",
              "25   26.0         0.0         26\n",
              "26   27.0         1.0       Fizz\n",
              "27   28.0         0.0         28\n",
              "28   29.0         0.0         29\n",
              "29   30.0         3.0  Fizz-Buzz\n",
              "..    ...         ...        ...\n",
              "70   71.0         0.0         71\n",
              "71   72.0         1.0       Fizz\n",
              "72   73.0         0.0         73\n",
              "73   74.0         0.0         74\n",
              "74   75.0         3.0  Fizz-Buzz\n",
              "75   76.0         0.0         76\n",
              "76   77.0         0.0         77\n",
              "77   78.0         1.0       Fizz\n",
              "78   79.0         0.0         79\n",
              "79   80.0         2.0       Buzz\n",
              "80   81.0         1.0       Fizz\n",
              "81   82.0         0.0         82\n",
              "82   83.0         0.0         83\n",
              "83   84.0         1.0       Fizz\n",
              "84   85.0         2.0       Buzz\n",
              "85   86.0         0.0         86\n",
              "86   87.0         1.0       Fizz\n",
              "87   88.0         0.0         88\n",
              "88   89.0         0.0         89\n",
              "89   90.0         3.0  Fizz-Buzz\n",
              "90   91.0         0.0         91\n",
              "91   92.0         0.0         92\n",
              "92   93.0         1.0       Fizz\n",
              "93   94.0         0.0         94\n",
              "94   95.0         2.0       Buzz\n",
              "95   96.0         1.0       Fizz\n",
              "96   97.0         0.0         97\n",
              "97   98.0         0.0         98\n",
              "98   99.0         1.0       Fizz\n",
              "99  100.0         2.0       Buzz\n",
              "\n",
              "[100 rows x 3 columns]"
            ]
          },
          "metadata": {
            "tags": []
          },
          "execution_count": 141
        }
      ]
    },
    {
      "metadata": {
        "id": "gh8z3Iai0lxR",
        "colab_type": "text"
      },
      "cell_type": "markdown",
      "source": [
        "                                                                                                                                             **   .................**......................**"
      ]
    }
  ]
}